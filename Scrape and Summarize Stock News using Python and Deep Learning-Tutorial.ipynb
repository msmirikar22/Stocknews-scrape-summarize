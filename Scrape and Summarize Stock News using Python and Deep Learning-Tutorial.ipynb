{
 "cells": [
  {
   "cell_type": "markdown",
   "metadata": {},
   "source": [
    "# 1. Install and Import Baseline Dependencies"
   ]
  },
  {
   "cell_type": "code",
   "execution_count": 1,
   "metadata": {},
   "outputs": [
    {
     "name": "stdout",
     "output_type": "stream",
     "text": [
      "Requirement already satisfied: transformers in c:\\users\\admin\\anaconda3\\lib\\site-packages (4.17.0)\n",
      "Requirement already satisfied: sacremoses in c:\\users\\admin\\anaconda3\\lib\\site-packages (from transformers) (0.0.49)\n",
      "Requirement already satisfied: pyyaml>=5.1 in c:\\users\\admin\\anaconda3\\lib\\site-packages (from transformers) (5.4.1)\n",
      "Requirement already satisfied: packaging>=20.0 in c:\\users\\admin\\anaconda3\\lib\\site-packages (from transformers) (20.9)\n",
      "Requirement already satisfied: tokenizers!=0.11.3,>=0.11.1 in c:\\users\\admin\\anaconda3\\lib\\site-packages (from transformers) (0.12.0)\n",
      "Requirement already satisfied: huggingface-hub<1.0,>=0.1.0 in c:\\users\\admin\\anaconda3\\lib\\site-packages (from transformers) (0.4.0)\n",
      "Requirement already satisfied: numpy>=1.17 in c:\\users\\admin\\anaconda3\\lib\\site-packages (from transformers) (1.19.5)\n",
      "Requirement already satisfied: tqdm>=4.27 in c:\\users\\admin\\anaconda3\\lib\\site-packages (from transformers) (4.59.0)\n",
      "Requirement already satisfied: regex!=2019.12.17 in c:\\users\\admin\\anaconda3\\lib\\site-packages (from transformers) (2021.4.4)\n",
      "Requirement already satisfied: requests in c:\\users\\admin\\anaconda3\\lib\\site-packages (from transformers) (2.25.1)\n",
      "Requirement already satisfied: filelock in c:\\users\\admin\\anaconda3\\lib\\site-packages (from transformers) (3.0.12)\n",
      "Requirement already satisfied: typing-extensions>=3.7.4.3 in c:\\users\\admin\\anaconda3\\lib\\site-packages (from huggingface-hub<1.0,>=0.1.0->transformers) (3.7.4.3)\n",
      "Requirement already satisfied: pyparsing>=2.0.2 in c:\\users\\admin\\anaconda3\\lib\\site-packages (from packaging>=20.0->transformers) (2.4.7)\n",
      "Requirement already satisfied: certifi>=2017.4.17 in c:\\users\\admin\\anaconda3\\lib\\site-packages (from requests->transformers) (2020.12.5)\n",
      "Requirement already satisfied: urllib3<1.27,>=1.21.1 in c:\\users\\admin\\anaconda3\\lib\\site-packages (from requests->transformers) (1.26.4)\n",
      "Requirement already satisfied: chardet<5,>=3.0.2 in c:\\users\\admin\\anaconda3\\lib\\site-packages (from requests->transformers) (4.0.0)\n",
      "Requirement already satisfied: idna<3,>=2.5 in c:\\users\\admin\\anaconda3\\lib\\site-packages (from requests->transformers) (2.10)\n",
      "Requirement already satisfied: click in c:\\users\\admin\\anaconda3\\lib\\site-packages (from sacremoses->transformers) (7.1.2)\n",
      "Requirement already satisfied: six in c:\\users\\admin\\anaconda3\\lib\\site-packages (from sacremoses->transformers) (1.15.0)\n",
      "Requirement already satisfied: joblib in c:\\users\\admin\\anaconda3\\lib\\site-packages (from sacremoses->transformers) (1.0.1)\n",
      "Requirement already satisfied: sentencepiece in c:\\users\\admin\\anaconda3\\lib\\site-packages (0.1.96)\n"
     ]
    }
   ],
   "source": [
    "!pip install transformers\n",
    "!pip install sentencepiece"
   ]
  },
  {
   "cell_type": "code",
   "execution_count": 2,
   "metadata": {},
   "outputs": [],
   "source": [
    "from transformers import PegasusTokenizer, PegasusForConditionalGeneration\n",
    "from bs4 import BeautifulSoup\n",
    "import requests"
   ]
  },
  {
   "cell_type": "markdown",
   "metadata": {},
   "source": [
    "# 2. Setup Summarization Model"
   ]
  },
  {
   "cell_type": "code",
   "execution_count": 5,
   "metadata": {},
   "outputs": [
    {
     "data": {
      "application/vnd.jupyter.widget-view+json": {
       "model_id": "7f72dec9f81540c3bccd32baf06ae5c2",
       "version_major": 2,
       "version_minor": 0
      },
      "text/plain": [
       "Downloading:   0%|          | 0.00/2.12G [00:00<?, ?B/s]"
      ]
     },
     "metadata": {},
     "output_type": "display_data"
    }
   ],
   "source": [
    "tokenizer = PegasusTokenizer.from_pretrained(\"human-centered-summarization/financial-summarization-pegasus\")\n",
    "model = PegasusForConditionalGeneration.from_pretrained(\"human-centered-summarization/financial-summarization-pegasus\")"
   ]
  },
  {
   "cell_type": "code",
   "execution_count": 6,
   "metadata": {},
   "outputs": [],
   "source": [
    "from transformers import AutoTokenizer, AutoModelForSeq2SeqLM\n",
    "\n",
    "tokenizer = AutoTokenizer.from_pretrained(\"human-centered-summarization/financial-summarization-pegasus\")\n",
    "\n",
    "model = AutoModelForSeq2SeqLM.from_pretrained(\"human-centered-summarization/financial-summarization-pegasus\")"
   ]
  },
  {
   "cell_type": "markdown",
   "metadata": {},
   "source": [
    "# 3. Summarize a Single Article"
   ]
  },
  {
   "cell_type": "code",
   "execution_count": 28,
   "metadata": {},
   "outputs": [],
   "source": [
    "url = \"https://www.financialexpress.com/market/elon-musk-sells-tesla-shares-worth-4-billion-says-no-more-tesla-stock-sale-planned/2507392/\"\n",
    "r = requests.get(url)\n",
    "soup = BeautifulSoup(r.text, 'html.parser')\n",
    "paragraphs = soup.find_all('p')"
   ]
  },
  {
   "cell_type": "code",
   "execution_count": 29,
   "metadata": {},
   "outputs": [
    {
     "data": {
      "text/plain": [
       "'\\nReference #18.6a822c31.1651311964.9415d68\\n'"
      ]
     },
     "execution_count": 29,
     "metadata": {},
     "output_type": "execute_result"
    }
   ],
   "source": [
    "paragraphs[0].text"
   ]
  },
  {
   "cell_type": "code",
   "execution_count": 30,
   "metadata": {},
   "outputs": [],
   "source": [
    "text = [paragraph.text for paragraph in paragraphs]\n",
    "words = ' '.join(text).split(' ')[:400]\n",
    "ARTICLE = ' '.join(words)"
   ]
  },
  {
   "cell_type": "code",
   "execution_count": 31,
   "metadata": {},
   "outputs": [
    {
     "data": {
      "text/plain": [
       "'\\nReference #18.6a822c31.1651311964.9415d68\\n'"
      ]
     },
     "execution_count": 31,
     "metadata": {},
     "output_type": "execute_result"
    }
   ],
   "source": [
    "ARTICLE"
   ]
  },
  {
   "cell_type": "code",
   "execution_count": 32,
   "metadata": {},
   "outputs": [],
   "source": [
    "input_ids = tokenizer.encode(ARTICLE, return_tensors='pt')\n",
    "output = model.generate(input_ids, max_length=55, num_beams=5, early_stopping=True)\n",
    "summary = tokenizer.decode(output[0], skip_special_tokens=True)"
   ]
  },
  {
   "cell_type": "code",
   "execution_count": 34,
   "metadata": {},
   "outputs": [
    {
     "data": {
      "text/plain": [
       "'U.S. Department of Defense website: www.dec.army.mil.'"
      ]
     },
     "execution_count": 34,
     "metadata": {},
     "output_type": "execute_result"
    }
   ],
   "source": [
    "summary"
   ]
  },
  {
   "cell_type": "markdown",
   "metadata": {},
   "source": [
    "# 4. Building a News and Sentiment Pipeline"
   ]
  },
  {
   "cell_type": "code",
   "execution_count": 35,
   "metadata": {},
   "outputs": [],
   "source": [
    "monitored_tickers = ['GME', 'TSLA', 'BTC']"
   ]
  },
  {
   "cell_type": "markdown",
   "metadata": {},
   "source": [
    "## 4.1. Search for Stock News using Google and Yahoo Finance"
   ]
  },
  {
   "cell_type": "code",
   "execution_count": 36,
   "metadata": {},
   "outputs": [],
   "source": [
    "def search_for_stock_news_urls(ticker):\n",
    "    search_url = \"https://www.google.com/search?q=yahoo+finance+{}&tbm=nws\".format(ticker)\n",
    "    r = requests.get(search_url)\n",
    "    soup = BeautifulSoup(r.text, 'html.parser')\n",
    "    atags = soup.find_all('a')\n",
    "    hrefs = [link['href'] for link in atags]\n",
    "    return hrefs "
   ]
  },
  {
   "cell_type": "code",
   "execution_count": 37,
   "metadata": {},
   "outputs": [
    {
     "data": {
      "text/plain": [
       "{'GME': ['/?sa=X&ved=0ahUKEwj668nNwLv3AhUJpJUCHWj1B_EQOwgC',\n",
       "  '/?output=search&ie=UTF-8&tbm=nws&sa=X&ved=0ahUKEwj668nNwLv3AhUJpJUCHWj1B_EQPAgE',\n",
       "  '/search?q=yahoo+finance+GME&tbm=nws&ie=UTF-8&gbv=1&sei=iAVtYvqHMInI1sQP6OqfiA8',\n",
       "  '/search?q=yahoo+finance+GME&ie=UTF-8&source=lnms&sa=X&ved=0ahUKEwj668nNwLv3AhUJpJUCHWj1B_EQ_AUIBygA',\n",
       "  '/search?q=yahoo+finance+GME&ie=UTF-8&tbm=bks&source=lnms&sa=X&ved=0ahUKEwj668nNwLv3AhUJpJUCHWj1B_EQ_AUICSgC',\n",
       "  '/search?q=yahoo+finance+GME&ie=UTF-8&tbm=shop&source=lnms&sa=X&ved=0ahUKEwj668nNwLv3AhUJpJUCHWj1B_EQ_AUICigD',\n",
       "  '/search?q=yahoo+finance+GME&ie=UTF-8&tbm=isch&source=lnms&sa=X&ved=0ahUKEwj668nNwLv3AhUJpJUCHWj1B_EQ_AUICygE',\n",
       "  'https://maps.google.com/maps?q=yahoo+finance+GME&um=1&ie=UTF-8&sa=X&ved=0ahUKEwj668nNwLv3AhUJpJUCHWj1B_EQ_AUIDCgF',\n",
       "  '/search?q=yahoo+finance+GME&ie=UTF-8&tbm=vid&source=lnms&sa=X&ved=0ahUKEwj668nNwLv3AhUJpJUCHWj1B_EQ_AUIDSgG',\n",
       "  '/advanced_search',\n",
       "  '/search?q=yahoo+finance+GME&ie=UTF-8&tbm=nws&source=lnt&tbs=qdr:h&sa=X&ved=0ahUKEwj668nNwLv3AhUJpJUCHWj1B_EQpwUIDw',\n",
       "  '/search?q=yahoo+finance+GME&ie=UTF-8&tbm=nws&source=lnt&tbs=qdr:d&sa=X&ved=0ahUKEwj668nNwLv3AhUJpJUCHWj1B_EQpwUIEA',\n",
       "  '/search?q=yahoo+finance+GME&ie=UTF-8&tbm=nws&source=lnt&tbs=qdr:w&sa=X&ved=0ahUKEwj668nNwLv3AhUJpJUCHWj1B_EQpwUIEQ',\n",
       "  '/search?q=yahoo+finance+GME&ie=UTF-8&tbm=nws&source=lnt&tbs=qdr:m&sa=X&ved=0ahUKEwj668nNwLv3AhUJpJUCHWj1B_EQpwUIEg',\n",
       "  '/search?q=yahoo+finance+GME&ie=UTF-8&tbm=nws&source=lnt&tbs=qdr:y&sa=X&ved=0ahUKEwj668nNwLv3AhUJpJUCHWj1B_EQpwUIEw',\n",
       "  '/search?q=yahoo+finance+GME&ie=UTF-8&tbm=nws&source=lnt&tbs=ar:1&sa=X&ved=0ahUKEwj668nNwLv3AhUJpJUCHWj1B_EQpwUIFA',\n",
       "  '/search?q=yahoo+finance+GME&ie=UTF-8&tbm=nws&source=lnt&tbs=sbd:1&sa=X&ved=0ahUKEwj668nNwLv3AhUJpJUCHWj1B_EQpwUIFg',\n",
       "  '/url?q=https://finance.yahoo.com/news/gamestop-gme-stock-sinks-market-220010614.html&sa=U&ved=2ahUKEwj668nNwLv3AhUJpJUCHWj1B_EQxfQBegQIBRAC&usg=AOvVaw2U2BGcxaAx9AmlV6mcMamE',\n",
       "  '/url?q=https://finance.yahoo.com/news/gamestop-gme-stock-sinks-market-220010614.html&sa=U&ved=2ahUKEwj668nNwLv3AhUJpJUCHWj1B_EQ0Y8FegQIBRAD&usg=AOvVaw3TQwNboRV2r_nB-U6ip82s',\n",
       "  '/url?q=https://finance.yahoo.com/news/bear-day-gamestop-gme-110011956.html&sa=U&ved=2ahUKEwj668nNwLv3AhUJpJUCHWj1B_EQxfQBegQICBAC&usg=AOvVaw0KxBspheuqFg9eavH9TwZ9',\n",
       "  '/url?q=https://finance.yahoo.com/news/bear-day-gamestop-gme-110011956.html&sa=U&ved=2ahUKEwj668nNwLv3AhUJpJUCHWj1B_EQ0Y8FegQICBAD&usg=AOvVaw3FJWDWD0T4lM_8UwfzrpCo',\n",
       "  '/url?q=https://finance.yahoo.com/news/the-meme-stock-craze-is-pretty-bro-ey-sallie-krawcheck-175923007.html&sa=U&ved=2ahUKEwj668nNwLv3AhUJpJUCHWj1B_EQxfQBegQIBxAC&usg=AOvVaw3ATBi9f84my3rVT7zrwKDO',\n",
       "  '/url?q=https://finance.yahoo.com/news/the-meme-stock-craze-is-pretty-bro-ey-sallie-krawcheck-175923007.html&sa=U&ved=2ahUKEwj668nNwLv3AhUJpJUCHWj1B_EQ0Y8FegQIBxAD&usg=AOvVaw2CL59gGlOgIdxMEZzKdZeB',\n",
       "  '/url?q=https://finance.yahoo.com/news/nvidia-gamestop-highlighted-zacks-bull-125212967.html&sa=U&ved=2ahUKEwj668nNwLv3AhUJpJUCHWj1B_EQxfQBegQICRAC&usg=AOvVaw12ClV6XL8UoLKu5-gR5dlT',\n",
       "  '/url?q=https://finance.yahoo.com/news/nvidia-gamestop-highlighted-zacks-bull-125212967.html&sa=U&ved=2ahUKEwj668nNwLv3AhUJpJUCHWj1B_EQ0Y8FegQICRAD&usg=AOvVaw2zT9-6OHKw_93P5fEIBd8q',\n",
       "  '/url?q=https://finance.yahoo.com/news/zacks-market-edge-highlights-gamestop-100610638.html&sa=U&ved=2ahUKEwj668nNwLv3AhUJpJUCHWj1B_EQxfQBegQIBBAC&usg=AOvVaw28-cRs_7bH7KVpZ48S4hjQ',\n",
       "  '/url?q=https://finance.yahoo.com/news/zacks-market-edge-highlights-gamestop-100610638.html&sa=U&ved=2ahUKEwj668nNwLv3AhUJpJUCHWj1B_EQ0Y8FegQIBBAD&usg=AOvVaw3tTHp7OjDCaLRYZ6d49owt',\n",
       "  '/url?q=https://finance.yahoo.com/news/taxes-2022-reporting-meme-stock-gains-and-losses-144648811.html&sa=U&ved=2ahUKEwj668nNwLv3AhUJpJUCHWj1B_EQxfQBegQIAxAC&usg=AOvVaw19fQhcU3mcHkheLPSEPTDO',\n",
       "  '/url?q=https://finance.yahoo.com/news/taxes-2022-reporting-meme-stock-gains-and-losses-144648811.html&sa=U&ved=2ahUKEwj668nNwLv3AhUJpJUCHWj1B_EQ0Y8FegQIAxAD&usg=AOvVaw2i2BAW7TODAnHK5U945iMb',\n",
       "  '/url?q=https://investorplace.com/2022/04/gme-stock-gamestop-requires-a-tactical-approach-moving-forward/&sa=U&ved=2ahUKEwj668nNwLv3AhUJpJUCHWj1B_EQxfQBegQIARAC&usg=AOvVaw1OIAXVNJXLrPpDJf1mqXsb',\n",
       "  '/url?q=https://investorplace.com/2022/04/gme-stock-gamestop-requires-a-tactical-approach-moving-forward/&sa=U&ved=2ahUKEwj668nNwLv3AhUJpJUCHWj1B_EQ0Y8FegQIARAD&usg=AOvVaw2Mkgevm85RVKneBEE8Pc__',\n",
       "  '/url?q=https://finance.yahoo.com/news/u-orthopaedic-partners-announces-leadership-174300930.html&sa=U&ved=2ahUKEwj668nNwLv3AhUJpJUCHWj1B_EQxfQBegQIBhAC&usg=AOvVaw2qMZ1MgusvH6EgWIeNH9QU',\n",
       "  '/url?q=https://finance.yahoo.com/news/u-orthopaedic-partners-announces-leadership-174300930.html&sa=U&ved=2ahUKEwj668nNwLv3AhUJpJUCHWj1B_EQ0Y8FegQIBhAD&usg=AOvVaw0mdOSLPjrVRg8XmDtVgJdz',\n",
       "  '/url?q=https://finance.yahoo.com/video/taxes-2022-know-reporting-meme-161025450.html&sa=U&ved=2ahUKEwj668nNwLv3AhUJpJUCHWj1B_EQxfQBegQIABAC&usg=AOvVaw3n9PH-zO5oZOa3mTZ2TTMo',\n",
       "  '/url?q=https://finance.yahoo.com/video/taxes-2022-know-reporting-meme-161025450.html&sa=U&ved=2ahUKEwj668nNwLv3AhUJpJUCHWj1B_EQ0Y8FegQIABAD&usg=AOvVaw0jWzZexGU5GebkgMPPcDP-',\n",
       "  '/url?q=https://finance.yahoo.com/video/bed-bath-beyond-earnings-going-155741973.html&sa=U&ved=2ahUKEwj668nNwLv3AhUJpJUCHWj1B_EQxfQBegQIAhAC&usg=AOvVaw169Eoaw0nXLj1uVWFLPDhp',\n",
       "  '/url?q=https://finance.yahoo.com/video/bed-bath-beyond-earnings-going-155741973.html&sa=U&ved=2ahUKEwj668nNwLv3AhUJpJUCHWj1B_EQ0Y8FegQIAhAD&usg=AOvVaw1oc5jyV-H5fWktaTjHpDrU',\n",
       "  '/search?q=yahoo+finance+GME&ie=UTF-8&tbm=nws&ei=iAVtYvqHMInI1sQP6OqfiA8&start=10&sa=N',\n",
       "  '/url?q=https://support.google.com/websearch%3Fp%3Dws_settings_location%26hl%3Den-IN&sa=U&ved=0ahUKEwj668nNwLv3AhUJpJUCHWj1B_EQty4IXw&usg=AOvVaw1RAAb-LifLG_GN1GAPEjKP',\n",
       "  '/url?q=https://accounts.google.com/ServiceLogin%3Fcontinue%3Dhttps://www.google.com/search%253Fq%253Dyahoo%252Bfinance%252BGME%2526tbm%253Dnws%26hl%3Den&sa=U&ved=0ahUKEwj668nNwLv3AhUJpJUCHWj1B_EQxs8CCGA&usg=AOvVaw2vFEwpseb6WCHXCwxHgOrZ',\n",
       "  'https://www.google.com/preferences?hl=en-IN&fg=1&sa=X&ved=0ahUKEwj668nNwLv3AhUJpJUCHWj1B_EQ5fUCCGE',\n",
       "  'https://policies.google.com/privacy?hl=en-IN&fg=1',\n",
       "  'https://policies.google.com/terms?hl=en-IN&fg=1'],\n",
       " 'TSLA': ['/?sa=X&ved=0ahUKEwjnqZLOwLv3AhWCtpUCHYQ2A70QOwgC',\n",
       "  '/?output=search&ie=UTF-8&tbm=nws&sa=X&ved=0ahUKEwjnqZLOwLv3AhWCtpUCHYQ2A70QPAgE',\n",
       "  '/search?q=yahoo+finance+TSLA&tbm=nws&ie=UTF-8&gbv=1&sei=iQVtYqfBO4Lt1sQPhO2M6As',\n",
       "  '/search?q=yahoo+finance+TSLA&ie=UTF-8&source=lnms&sa=X&ved=0ahUKEwjnqZLOwLv3AhWCtpUCHYQ2A70Q_AUIBygA',\n",
       "  '/search?q=yahoo+finance+TSLA&ie=UTF-8&tbm=bks&source=lnms&sa=X&ved=0ahUKEwjnqZLOwLv3AhWCtpUCHYQ2A70Q_AUICSgC',\n",
       "  '/search?q=yahoo+finance+TSLA&ie=UTF-8&tbm=shop&source=lnms&sa=X&ved=0ahUKEwjnqZLOwLv3AhWCtpUCHYQ2A70Q_AUICigD',\n",
       "  '/search?q=yahoo+finance+TSLA&ie=UTF-8&tbm=isch&source=lnms&sa=X&ved=0ahUKEwjnqZLOwLv3AhWCtpUCHYQ2A70Q_AUICygE',\n",
       "  'https://maps.google.com/maps?q=yahoo+finance+TSLA&um=1&ie=UTF-8&sa=X&ved=0ahUKEwjnqZLOwLv3AhWCtpUCHYQ2A70Q_AUIDCgF',\n",
       "  '/search?q=yahoo+finance+TSLA&ie=UTF-8&tbm=vid&source=lnms&sa=X&ved=0ahUKEwjnqZLOwLv3AhWCtpUCHYQ2A70Q_AUIDSgG',\n",
       "  '/advanced_search',\n",
       "  '/search?q=yahoo+finance+TSLA&ie=UTF-8&tbm=nws&source=lnt&tbs=qdr:h&sa=X&ved=0ahUKEwjnqZLOwLv3AhWCtpUCHYQ2A70QpwUIDw',\n",
       "  '/search?q=yahoo+finance+TSLA&ie=UTF-8&tbm=nws&source=lnt&tbs=qdr:d&sa=X&ved=0ahUKEwjnqZLOwLv3AhWCtpUCHYQ2A70QpwUIEA',\n",
       "  '/search?q=yahoo+finance+TSLA&ie=UTF-8&tbm=nws&source=lnt&tbs=qdr:w&sa=X&ved=0ahUKEwjnqZLOwLv3AhWCtpUCHYQ2A70QpwUIEQ',\n",
       "  '/search?q=yahoo+finance+TSLA&ie=UTF-8&tbm=nws&source=lnt&tbs=qdr:m&sa=X&ved=0ahUKEwjnqZLOwLv3AhWCtpUCHYQ2A70QpwUIEg',\n",
       "  '/search?q=yahoo+finance+TSLA&ie=UTF-8&tbm=nws&source=lnt&tbs=qdr:y&sa=X&ved=0ahUKEwjnqZLOwLv3AhWCtpUCHYQ2A70QpwUIEw',\n",
       "  '/search?q=yahoo+finance+TSLA&ie=UTF-8&tbm=nws&source=lnt&tbs=ar:1&sa=X&ved=0ahUKEwjnqZLOwLv3AhWCtpUCHYQ2A70QpwUIFA',\n",
       "  '/search?q=yahoo+finance+TSLA&ie=UTF-8&tbm=nws&source=lnt&tbs=sbd:1&sa=X&ved=0ahUKEwjnqZLOwLv3AhWCtpUCHYQ2A70QpwUIFg',\n",
       "  '/url?q=https://finance.yahoo.com/news/juggling-twitter-and-tesla-would-require-constant-attention-by-elon-musk-expert-142238834.html&sa=U&ved=2ahUKEwjnqZLOwLv3AhWCtpUCHYQ2A70QxfQBegQIAxAC&usg=AOvVaw0CJ3Ft057Pi-qNV2iFyU0O',\n",
       "  '/url?q=https://finance.yahoo.com/news/juggling-twitter-and-tesla-would-require-constant-attention-by-elon-musk-expert-142238834.html&sa=U&ved=2ahUKEwjnqZLOwLv3AhWCtpUCHYQ2A70Q0Y8FegQIAxAD&usg=AOvVaw1D8R68o_qtIIB_s1gajc48',\n",
       "  '/url?q=https://finance.yahoo.com/news/elon-musk-sold-4-billion-041452825.html&sa=U&ved=2ahUKEwjnqZLOwLv3AhWCtpUCHYQ2A70QxfQBegQIBxAC&usg=AOvVaw0Rdzn7lWQjHqI2I0fRtFxm',\n",
       "  '/url?q=https://finance.yahoo.com/news/elon-musk-sold-4-billion-041452825.html&sa=U&ved=2ahUKEwjnqZLOwLv3AhWCtpUCHYQ2A70Q0Y8FegQIBxAD&usg=AOvVaw1h2R1uXaW5lJwPTk8ixl7p',\n",
       "  '/url?q=https://finance.yahoo.com/longtime-tesla-rival-henrik-fisker-223000049.html&sa=U&ved=2ahUKEwjnqZLOwLv3AhWCtpUCHYQ2A70QxfQBegQICBAC&usg=AOvVaw3n3dc4modYePloWgdO7NJO',\n",
       "  '/url?q=https://finance.yahoo.com/longtime-tesla-rival-henrik-fisker-223000049.html&sa=U&ved=2ahUKEwjnqZLOwLv3AhWCtpUCHYQ2A70Q0Y8FegQICBAD&usg=AOvVaw309pp0Oy4rxrDFQxJkFfZ9',\n",
       "  '/url?q=https://finance.yahoo.com/news/tesla-stock-stands-apart-growth-104807353.html&sa=U&ved=2ahUKEwjnqZLOwLv3AhWCtpUCHYQ2A70QxfQBegQICRAC&usg=AOvVaw3PvQPK2I3vnn6cF3OeDULp',\n",
       "  '/url?q=https://finance.yahoo.com/news/tesla-stock-stands-apart-growth-104807353.html&sa=U&ved=2ahUKEwjnqZLOwLv3AhWCtpUCHYQ2A70Q0Y8FegQICRAD&usg=AOvVaw0A39k0PAXVAYFGQI5CAuo5',\n",
       "  '/url?q=https://finance.yahoo.com/news/one-big-challenge-facing-tesla-that-has-nothing-to-do-with-elon-musks-twitter-bid-163542573.html&sa=U&ved=2ahUKEwjnqZLOwLv3AhWCtpUCHYQ2A70QxfQBegQIARAC&usg=AOvVaw3rHAQUD8H7NcbINZI6tZaY',\n",
       "  '/url?q=https://finance.yahoo.com/news/one-big-challenge-facing-tesla-that-has-nothing-to-do-with-elon-musks-twitter-bid-163542573.html&sa=U&ved=2ahUKEwjnqZLOwLv3AhWCtpUCHYQ2A70Q0Y8FegQIARAD&usg=AOvVaw1ElUD-ot1lyTfotDCr3Xlf',\n",
       "  '/url?q=https://finance.yahoo.com/news/tesla-notches-record-profit-sees-000529793.html&sa=U&ved=2ahUKEwjnqZLOwLv3AhWCtpUCHYQ2A70QxfQBegQIBhAC&usg=AOvVaw2jHqJ0vKBWAFlb_H-KkJpi',\n",
       "  '/url?q=https://finance.yahoo.com/news/tesla-notches-record-profit-sees-000529793.html&sa=U&ved=2ahUKEwjnqZLOwLv3AhWCtpUCHYQ2A70Q0Y8FegQIBhAD&usg=AOvVaw0uae9pV-hYBSMRlVLiFecI',\n",
       "  '/url?q=https://finance.yahoo.com/video/elon-musk-twitter-deal-means-133418736.html&sa=U&ved=2ahUKEwjnqZLOwLv3AhWCtpUCHYQ2A70QxfQBegQIABAC&usg=AOvVaw3gmxncNjn_ILg-Gf8e7hx1',\n",
       "  '/url?q=https://finance.yahoo.com/video/elon-musk-twitter-deal-means-133418736.html&sa=U&ved=2ahUKEwjnqZLOwLv3AhWCtpUCHYQ2A70Q0Y8FegQIABAD&usg=AOvVaw2LlI6rQ7MQrf54o5A1OKVZ',\n",
       "  '/url?q=https://finance.yahoo.com/video/twitter-tesla-both-musk-constant-153901595.html&sa=U&ved=2ahUKEwjnqZLOwLv3AhWCtpUCHYQ2A70QxfQBegQIAhAC&usg=AOvVaw3XPz8fS9sCCSwLfh-n5r06',\n",
       "  '/url?q=https://finance.yahoo.com/video/twitter-tesla-both-musk-constant-153901595.html&sa=U&ved=2ahUKEwjnqZLOwLv3AhWCtpUCHYQ2A70Q0Y8FegQIAhAD&usg=AOvVaw17tOQ0pLPlUaiMpEiFP4tJ',\n",
       "  '/url?q=https://uk.finance.yahoo.com/news/elon-musk-sells-8-5bn-181854583.html&sa=U&ved=2ahUKEwjnqZLOwLv3AhWCtpUCHYQ2A70QxfQBegQIBRAC&usg=AOvVaw10xtAZaKxUSH4Y85-OsHm1',\n",
       "  '/url?q=https://uk.finance.yahoo.com/news/elon-musk-sells-8-5bn-181854583.html&sa=U&ved=2ahUKEwjnqZLOwLv3AhWCtpUCHYQ2A70Q0Y8FegQIBRAD&usg=AOvVaw3rhvIDrzAVCeZPd8Sca9I8',\n",
       "  '/url?q=https://finance.yahoo.com/news/tesla-insurance-colorado-oregon-virginia-200217835.html&sa=U&ved=2ahUKEwjnqZLOwLv3AhWCtpUCHYQ2A70QxfQBegQIBBAC&usg=AOvVaw2vCscbBHuhkO9dOAOqwBMm',\n",
       "  '/url?q=https://finance.yahoo.com/news/tesla-insurance-colorado-oregon-virginia-200217835.html&sa=U&ved=2ahUKEwjnqZLOwLv3AhWCtpUCHYQ2A70Q0Y8FegQIBBAD&usg=AOvVaw0viFRbty2iKo25zhC5v7mP',\n",
       "  '/search?q=yahoo+finance+TSLA&ie=UTF-8&tbm=nws&ei=iQVtYqfBO4Lt1sQPhO2M6As&start=10&sa=N',\n",
       "  '/url?q=https://support.google.com/websearch%3Fp%3Dws_settings_location%26hl%3Den-IN&sa=U&ved=0ahUKEwjnqZLOwLv3AhWCtpUCHYQ2A70Qty4IXw&usg=AOvVaw1KOXlKNwzsN2aV13jwHryF',\n",
       "  '/url?q=https://accounts.google.com/ServiceLogin%3Fcontinue%3Dhttps://www.google.com/search%253Fq%253Dyahoo%252Bfinance%252BTSLA%2526tbm%253Dnws%26hl%3Den&sa=U&ved=0ahUKEwjnqZLOwLv3AhWCtpUCHYQ2A70Qxs8CCGA&usg=AOvVaw1Gm1hSdwdf2idYqTy4SnpY',\n",
       "  'https://www.google.com/preferences?hl=en-IN&fg=1&sa=X&ved=0ahUKEwjnqZLOwLv3AhWCtpUCHYQ2A70Q5fUCCGE',\n",
       "  'https://policies.google.com/privacy?hl=en-IN&fg=1',\n",
       "  'https://policies.google.com/terms?hl=en-IN&fg=1'],\n",
       " 'BTC': ['/?sa=X&ved=0ahUKEwj6sObOwLv3AhX_g5UCHUDRDm4QOwgC',\n",
       "  '/?output=search&ie=UTF-8&tbm=nws&sa=X&ved=0ahUKEwj6sObOwLv3AhX_g5UCHUDRDm4QPAgE',\n",
       "  '/search?q=yahoo+finance+BTC&tbm=nws&ie=UTF-8&gbv=1&sei=iwVtYrq_Ff-H1sQPwKK78AY',\n",
       "  '/search?q=yahoo+finance+BTC&ie=UTF-8&source=lnms&sa=X&ved=0ahUKEwj6sObOwLv3AhX_g5UCHUDRDm4Q_AUIBygA',\n",
       "  '/search?q=yahoo+finance+BTC&ie=UTF-8&tbm=shop&source=lnms&sa=X&ved=0ahUKEwj6sObOwLv3AhX_g5UCHUDRDm4Q_AUICSgC',\n",
       "  '/search?q=yahoo+finance+BTC&ie=UTF-8&tbm=isch&source=lnms&sa=X&ved=0ahUKEwj6sObOwLv3AhX_g5UCHUDRDm4Q_AUICigD',\n",
       "  'https://maps.google.com/maps?q=yahoo+finance+BTC&um=1&ie=UTF-8&sa=X&ved=0ahUKEwj6sObOwLv3AhX_g5UCHUDRDm4Q_AUICygE',\n",
       "  '/search?q=yahoo+finance+BTC&ie=UTF-8&tbm=vid&source=lnms&sa=X&ved=0ahUKEwj6sObOwLv3AhX_g5UCHUDRDm4Q_AUIDCgF',\n",
       "  '/search?q=yahoo+finance+BTC&ie=UTF-8&tbm=bks&source=lnms&sa=X&ved=0ahUKEwj6sObOwLv3AhX_g5UCHUDRDm4Q_AUIDSgG',\n",
       "  '/advanced_search',\n",
       "  '/search?q=yahoo+finance+BTC&ie=UTF-8&tbm=nws&source=lnt&tbs=qdr:h&sa=X&ved=0ahUKEwj6sObOwLv3AhX_g5UCHUDRDm4QpwUIDw',\n",
       "  '/search?q=yahoo+finance+BTC&ie=UTF-8&tbm=nws&source=lnt&tbs=qdr:d&sa=X&ved=0ahUKEwj6sObOwLv3AhX_g5UCHUDRDm4QpwUIEA',\n",
       "  '/search?q=yahoo+finance+BTC&ie=UTF-8&tbm=nws&source=lnt&tbs=qdr:w&sa=X&ved=0ahUKEwj6sObOwLv3AhX_g5UCHUDRDm4QpwUIEQ',\n",
       "  '/search?q=yahoo+finance+BTC&ie=UTF-8&tbm=nws&source=lnt&tbs=qdr:m&sa=X&ved=0ahUKEwj6sObOwLv3AhX_g5UCHUDRDm4QpwUIEg',\n",
       "  '/search?q=yahoo+finance+BTC&ie=UTF-8&tbm=nws&source=lnt&tbs=qdr:y&sa=X&ved=0ahUKEwj6sObOwLv3AhX_g5UCHUDRDm4QpwUIEw',\n",
       "  '/search?q=yahoo+finance+BTC&ie=UTF-8&tbm=nws&source=lnt&tbs=ar:1&sa=X&ved=0ahUKEwj6sObOwLv3AhX_g5UCHUDRDm4QpwUIFA',\n",
       "  '/search?q=yahoo+finance+BTC&ie=UTF-8&tbm=nws&source=lnt&tbs=sbd:1&sa=X&ved=0ahUKEwj6sObOwLv3AhX_g5UCHUDRDm4QpwUIFg',\n",
       "  '/url?q=https://finance.yahoo.com/news/alex-adelman-rewards-bitcoin-180639118.html&sa=U&ved=2ahUKEwj6sObOwLv3AhX_g5UCHUDRDm4QxfQBegQIABAC&usg=AOvVaw3YFy3h8YeTEpO0TvnKNRN4',\n",
       "  '/url?q=https://finance.yahoo.com/news/alex-adelman-rewards-bitcoin-180639118.html&sa=U&ved=2ahUKEwj6sObOwLv3AhX_g5UCHUDRDm4Q0Y8FegQIABAD&usg=AOvVaw3A159KamNXV7lTQJQXVCt7',\n",
       "  '/url?q=https://finance.yahoo.com/news/cathedra-bitcoin-announces-shipment-first-185200554.html&sa=U&ved=2ahUKEwj6sObOwLv3AhX_g5UCHUDRDm4QxfQBegQICBAC&usg=AOvVaw2rigyH6hhy-ErhKLeadaEe',\n",
       "  '/url?q=https://finance.yahoo.com/news/cathedra-bitcoin-announces-shipment-first-185200554.html&sa=U&ved=2ahUKEwj6sObOwLv3AhX_g5UCHUDRDm4Q0Y8FegQICBAD&usg=AOvVaw2gSAQdEEV8ovKfEQcnOcrH',\n",
       "  '/url?q=https://finance.yahoo.com/news/bit-digital-inc-announces-bitcoin-115900746.html&sa=U&ved=2ahUKEwj6sObOwLv3AhX_g5UCHUDRDm4QxfQBegQIBxAC&usg=AOvVaw0AqhAAegBGLby4A-PcATM4',\n",
       "  '/url?q=https://finance.yahoo.com/news/bit-digital-inc-announces-bitcoin-115900746.html&sa=U&ved=2ahUKEwj6sObOwLv3AhX_g5UCHUDRDm4Q0Y8FegQIBxAD&usg=AOvVaw26c2sfeeCwylbtyUITg23j',\n",
       "  '/url?q=https://finance.yahoo.com/news/why-bitcoin-could-be-poised-to-fall-further-204052656.html&sa=U&ved=2ahUKEwj6sObOwLv3AhX_g5UCHUDRDm4QxfQBegQICRAC&usg=AOvVaw2zc1B4k-TRhnwPS3qX9o0U',\n",
       "  '/url?q=https://finance.yahoo.com/news/why-bitcoin-could-be-poised-to-fall-further-204052656.html&sa=U&ved=2ahUKEwj6sObOwLv3AhX_g5UCHUDRDm4Q0Y8FegQICRAD&usg=AOvVaw2f9uRz-p72eZSzfCr6TM-l',\n",
       "  '/url?q=https://finance.yahoo.com/video/labor-department-official-concerns-adding-205640678.html&sa=U&ved=2ahUKEwj6sObOwLv3AhX_g5UCHUDRDm4QxfQBegQIARAC&usg=AOvVaw1GI2cKiJOJ8Dkq8ItaxaNm',\n",
       "  '/url?q=https://finance.yahoo.com/video/labor-department-official-concerns-adding-205640678.html&sa=U&ved=2ahUKEwj6sObOwLv3AhX_g5UCHUDRDm4Q0Y8FegQIARAD&usg=AOvVaw2EEHUPdrlRvNypVlF1Vp4p',\n",
       "  '/url?q=https://finance.yahoo.com/video/crypto-bahamas-2022-bitcoin-price-144641530.html&sa=U&ved=2ahUKEwj6sObOwLv3AhX_g5UCHUDRDm4QxfQBegQIAxAC&usg=AOvVaw3SOhlUnydV0d0N3T86AmqI',\n",
       "  '/url?q=https://finance.yahoo.com/video/crypto-bahamas-2022-bitcoin-price-144641530.html&sa=U&ved=2ahUKEwj6sObOwLv3AhX_g5UCHUDRDm4Q0Y8FegQIAxAD&usg=AOvVaw2sosA5KDrfSAzPW3eRnOru',\n",
       "  '/url?q=https://finance.yahoo.com/news/osd-german-bank-officially-offering-080900758.html&sa=U&ved=2ahUKEwj6sObOwLv3AhX_g5UCHUDRDm4QxfQBegQIBRAC&usg=AOvVaw2e4-MPadr2fjuxQe_31ycX',\n",
       "  '/url?q=https://finance.yahoo.com/news/osd-german-bank-officially-offering-080900758.html&sa=U&ved=2ahUKEwj6sObOwLv3AhX_g5UCHUDRDm4Q0Y8FegQIBRAD&usg=AOvVaw3QoGBoTYZRyGjH_vePWDS3',\n",
       "  '/url?q=https://finance.yahoo.com/news/king-lunatics-becomes-bitcoin-most-040002343.html&sa=U&ved=2ahUKEwj6sObOwLv3AhX_g5UCHUDRDm4QxfQBegQIBBAC&usg=AOvVaw2dRZfvIP44QOpIuDV1RHy7',\n",
       "  '/url?q=https://finance.yahoo.com/news/king-lunatics-becomes-bitcoin-most-040002343.html&sa=U&ved=2ahUKEwj6sObOwLv3AhX_g5UCHUDRDm4Q0Y8FegQIBBAD&usg=AOvVaw0S5RWubXJexmNL6w8fOdCJ',\n",
       "  '/url?q=https://finance.yahoo.com/news/why-bitcoin-navigation-recent-global-080451109.html&sa=U&ved=2ahUKEwj6sObOwLv3AhX_g5UCHUDRDm4QxfQBegQIBhAC&usg=AOvVaw0wRDJTcmAJmYGIdH9ErASE',\n",
       "  '/url?q=https://finance.yahoo.com/news/why-bitcoin-navigation-recent-global-080451109.html&sa=U&ved=2ahUKEwj6sObOwLv3AhX_g5UCHUDRDm4Q0Y8FegQIBhAD&usg=AOvVaw3J4Oo1mqQbot7uLlsZ4dP2',\n",
       "  '/url?q=https://finance.yahoo.com/news/panama-poised-approve-bitcoin-8-122024300.html&sa=U&ved=2ahUKEwj6sObOwLv3AhX_g5UCHUDRDm4QxfQBegQIAhAC&usg=AOvVaw2CEYiBkNBdxlDgXiWZaS0w',\n",
       "  '/url?q=https://finance.yahoo.com/news/panama-poised-approve-bitcoin-8-122024300.html&sa=U&ved=2ahUKEwj6sObOwLv3AhX_g5UCHUDRDm4Q0Y8FegQIAhAD&usg=AOvVaw0SJnxz90c1747VirHAKTja',\n",
       "  '/search?q=yahoo+finance+BTC&ie=UTF-8&tbm=nws&ei=iwVtYrq_Ff-H1sQPwKK78AY&start=10&sa=N',\n",
       "  '/url?q=https://support.google.com/websearch%3Fp%3Dws_settings_location%26hl%3Den-IN&sa=U&ved=0ahUKEwj6sObOwLv3AhX_g5UCHUDRDm4Qty4IXw&usg=AOvVaw1_heiVHq88cRyyKkfy9w5_',\n",
       "  '/url?q=https://accounts.google.com/ServiceLogin%3Fcontinue%3Dhttps://www.google.com/search%253Fq%253Dyahoo%252Bfinance%252BBTC%2526tbm%253Dnws%26hl%3Den&sa=U&ved=0ahUKEwj6sObOwLv3AhX_g5UCHUDRDm4Qxs8CCGA&usg=AOvVaw3nean9r5VFC5ZATGfiH-9a',\n",
       "  'https://www.google.com/preferences?hl=en-IN&fg=1&sa=X&ved=0ahUKEwj6sObOwLv3AhX_g5UCHUDRDm4Q5fUCCGE',\n",
       "  'https://policies.google.com/privacy?hl=en-IN&fg=1',\n",
       "  'https://policies.google.com/terms?hl=en-IN&fg=1']}"
      ]
     },
     "execution_count": 37,
     "metadata": {},
     "output_type": "execute_result"
    }
   ],
   "source": [
    "raw_urls = {ticker:search_for_stock_news_urls(ticker) for ticker in monitored_tickers}\n",
    "raw_urls"
   ]
  },
  {
   "cell_type": "code",
   "execution_count": 38,
   "metadata": {},
   "outputs": [
    {
     "data": {
      "text/plain": [
       "['/?sa=X&ved=0ahUKEwj668nNwLv3AhUJpJUCHWj1B_EQOwgC',\n",
       " '/?output=search&ie=UTF-8&tbm=nws&sa=X&ved=0ahUKEwj668nNwLv3AhUJpJUCHWj1B_EQPAgE',\n",
       " '/search?q=yahoo+finance+GME&tbm=nws&ie=UTF-8&gbv=1&sei=iAVtYvqHMInI1sQP6OqfiA8',\n",
       " '/search?q=yahoo+finance+GME&ie=UTF-8&source=lnms&sa=X&ved=0ahUKEwj668nNwLv3AhUJpJUCHWj1B_EQ_AUIBygA',\n",
       " '/search?q=yahoo+finance+GME&ie=UTF-8&tbm=bks&source=lnms&sa=X&ved=0ahUKEwj668nNwLv3AhUJpJUCHWj1B_EQ_AUICSgC',\n",
       " '/search?q=yahoo+finance+GME&ie=UTF-8&tbm=shop&source=lnms&sa=X&ved=0ahUKEwj668nNwLv3AhUJpJUCHWj1B_EQ_AUICigD',\n",
       " '/search?q=yahoo+finance+GME&ie=UTF-8&tbm=isch&source=lnms&sa=X&ved=0ahUKEwj668nNwLv3AhUJpJUCHWj1B_EQ_AUICygE',\n",
       " 'https://maps.google.com/maps?q=yahoo+finance+GME&um=1&ie=UTF-8&sa=X&ved=0ahUKEwj668nNwLv3AhUJpJUCHWj1B_EQ_AUIDCgF',\n",
       " '/search?q=yahoo+finance+GME&ie=UTF-8&tbm=vid&source=lnms&sa=X&ved=0ahUKEwj668nNwLv3AhUJpJUCHWj1B_EQ_AUIDSgG',\n",
       " '/advanced_search',\n",
       " '/search?q=yahoo+finance+GME&ie=UTF-8&tbm=nws&source=lnt&tbs=qdr:h&sa=X&ved=0ahUKEwj668nNwLv3AhUJpJUCHWj1B_EQpwUIDw',\n",
       " '/search?q=yahoo+finance+GME&ie=UTF-8&tbm=nws&source=lnt&tbs=qdr:d&sa=X&ved=0ahUKEwj668nNwLv3AhUJpJUCHWj1B_EQpwUIEA',\n",
       " '/search?q=yahoo+finance+GME&ie=UTF-8&tbm=nws&source=lnt&tbs=qdr:w&sa=X&ved=0ahUKEwj668nNwLv3AhUJpJUCHWj1B_EQpwUIEQ',\n",
       " '/search?q=yahoo+finance+GME&ie=UTF-8&tbm=nws&source=lnt&tbs=qdr:m&sa=X&ved=0ahUKEwj668nNwLv3AhUJpJUCHWj1B_EQpwUIEg',\n",
       " '/search?q=yahoo+finance+GME&ie=UTF-8&tbm=nws&source=lnt&tbs=qdr:y&sa=X&ved=0ahUKEwj668nNwLv3AhUJpJUCHWj1B_EQpwUIEw',\n",
       " '/search?q=yahoo+finance+GME&ie=UTF-8&tbm=nws&source=lnt&tbs=ar:1&sa=X&ved=0ahUKEwj668nNwLv3AhUJpJUCHWj1B_EQpwUIFA',\n",
       " '/search?q=yahoo+finance+GME&ie=UTF-8&tbm=nws&source=lnt&tbs=sbd:1&sa=X&ved=0ahUKEwj668nNwLv3AhUJpJUCHWj1B_EQpwUIFg',\n",
       " '/url?q=https://finance.yahoo.com/news/gamestop-gme-stock-sinks-market-220010614.html&sa=U&ved=2ahUKEwj668nNwLv3AhUJpJUCHWj1B_EQxfQBegQIBRAC&usg=AOvVaw2U2BGcxaAx9AmlV6mcMamE',\n",
       " '/url?q=https://finance.yahoo.com/news/gamestop-gme-stock-sinks-market-220010614.html&sa=U&ved=2ahUKEwj668nNwLv3AhUJpJUCHWj1B_EQ0Y8FegQIBRAD&usg=AOvVaw3TQwNboRV2r_nB-U6ip82s',\n",
       " '/url?q=https://finance.yahoo.com/news/bear-day-gamestop-gme-110011956.html&sa=U&ved=2ahUKEwj668nNwLv3AhUJpJUCHWj1B_EQxfQBegQICBAC&usg=AOvVaw0KxBspheuqFg9eavH9TwZ9',\n",
       " '/url?q=https://finance.yahoo.com/news/bear-day-gamestop-gme-110011956.html&sa=U&ved=2ahUKEwj668nNwLv3AhUJpJUCHWj1B_EQ0Y8FegQICBAD&usg=AOvVaw3FJWDWD0T4lM_8UwfzrpCo',\n",
       " '/url?q=https://finance.yahoo.com/news/the-meme-stock-craze-is-pretty-bro-ey-sallie-krawcheck-175923007.html&sa=U&ved=2ahUKEwj668nNwLv3AhUJpJUCHWj1B_EQxfQBegQIBxAC&usg=AOvVaw3ATBi9f84my3rVT7zrwKDO',\n",
       " '/url?q=https://finance.yahoo.com/news/the-meme-stock-craze-is-pretty-bro-ey-sallie-krawcheck-175923007.html&sa=U&ved=2ahUKEwj668nNwLv3AhUJpJUCHWj1B_EQ0Y8FegQIBxAD&usg=AOvVaw2CL59gGlOgIdxMEZzKdZeB',\n",
       " '/url?q=https://finance.yahoo.com/news/nvidia-gamestop-highlighted-zacks-bull-125212967.html&sa=U&ved=2ahUKEwj668nNwLv3AhUJpJUCHWj1B_EQxfQBegQICRAC&usg=AOvVaw12ClV6XL8UoLKu5-gR5dlT',\n",
       " '/url?q=https://finance.yahoo.com/news/nvidia-gamestop-highlighted-zacks-bull-125212967.html&sa=U&ved=2ahUKEwj668nNwLv3AhUJpJUCHWj1B_EQ0Y8FegQICRAD&usg=AOvVaw2zT9-6OHKw_93P5fEIBd8q',\n",
       " '/url?q=https://finance.yahoo.com/news/zacks-market-edge-highlights-gamestop-100610638.html&sa=U&ved=2ahUKEwj668nNwLv3AhUJpJUCHWj1B_EQxfQBegQIBBAC&usg=AOvVaw28-cRs_7bH7KVpZ48S4hjQ',\n",
       " '/url?q=https://finance.yahoo.com/news/zacks-market-edge-highlights-gamestop-100610638.html&sa=U&ved=2ahUKEwj668nNwLv3AhUJpJUCHWj1B_EQ0Y8FegQIBBAD&usg=AOvVaw3tTHp7OjDCaLRYZ6d49owt',\n",
       " '/url?q=https://finance.yahoo.com/news/taxes-2022-reporting-meme-stock-gains-and-losses-144648811.html&sa=U&ved=2ahUKEwj668nNwLv3AhUJpJUCHWj1B_EQxfQBegQIAxAC&usg=AOvVaw19fQhcU3mcHkheLPSEPTDO',\n",
       " '/url?q=https://finance.yahoo.com/news/taxes-2022-reporting-meme-stock-gains-and-losses-144648811.html&sa=U&ved=2ahUKEwj668nNwLv3AhUJpJUCHWj1B_EQ0Y8FegQIAxAD&usg=AOvVaw2i2BAW7TODAnHK5U945iMb',\n",
       " '/url?q=https://investorplace.com/2022/04/gme-stock-gamestop-requires-a-tactical-approach-moving-forward/&sa=U&ved=2ahUKEwj668nNwLv3AhUJpJUCHWj1B_EQxfQBegQIARAC&usg=AOvVaw1OIAXVNJXLrPpDJf1mqXsb',\n",
       " '/url?q=https://investorplace.com/2022/04/gme-stock-gamestop-requires-a-tactical-approach-moving-forward/&sa=U&ved=2ahUKEwj668nNwLv3AhUJpJUCHWj1B_EQ0Y8FegQIARAD&usg=AOvVaw2Mkgevm85RVKneBEE8Pc__',\n",
       " '/url?q=https://finance.yahoo.com/news/u-orthopaedic-partners-announces-leadership-174300930.html&sa=U&ved=2ahUKEwj668nNwLv3AhUJpJUCHWj1B_EQxfQBegQIBhAC&usg=AOvVaw2qMZ1MgusvH6EgWIeNH9QU',\n",
       " '/url?q=https://finance.yahoo.com/news/u-orthopaedic-partners-announces-leadership-174300930.html&sa=U&ved=2ahUKEwj668nNwLv3AhUJpJUCHWj1B_EQ0Y8FegQIBhAD&usg=AOvVaw0mdOSLPjrVRg8XmDtVgJdz',\n",
       " '/url?q=https://finance.yahoo.com/video/taxes-2022-know-reporting-meme-161025450.html&sa=U&ved=2ahUKEwj668nNwLv3AhUJpJUCHWj1B_EQxfQBegQIABAC&usg=AOvVaw3n9PH-zO5oZOa3mTZ2TTMo',\n",
       " '/url?q=https://finance.yahoo.com/video/taxes-2022-know-reporting-meme-161025450.html&sa=U&ved=2ahUKEwj668nNwLv3AhUJpJUCHWj1B_EQ0Y8FegQIABAD&usg=AOvVaw0jWzZexGU5GebkgMPPcDP-',\n",
       " '/url?q=https://finance.yahoo.com/video/bed-bath-beyond-earnings-going-155741973.html&sa=U&ved=2ahUKEwj668nNwLv3AhUJpJUCHWj1B_EQxfQBegQIAhAC&usg=AOvVaw169Eoaw0nXLj1uVWFLPDhp',\n",
       " '/url?q=https://finance.yahoo.com/video/bed-bath-beyond-earnings-going-155741973.html&sa=U&ved=2ahUKEwj668nNwLv3AhUJpJUCHWj1B_EQ0Y8FegQIAhAD&usg=AOvVaw1oc5jyV-H5fWktaTjHpDrU',\n",
       " '/search?q=yahoo+finance+GME&ie=UTF-8&tbm=nws&ei=iAVtYvqHMInI1sQP6OqfiA8&start=10&sa=N',\n",
       " '/url?q=https://support.google.com/websearch%3Fp%3Dws_settings_location%26hl%3Den-IN&sa=U&ved=0ahUKEwj668nNwLv3AhUJpJUCHWj1B_EQty4IXw&usg=AOvVaw1RAAb-LifLG_GN1GAPEjKP',\n",
       " '/url?q=https://accounts.google.com/ServiceLogin%3Fcontinue%3Dhttps://www.google.com/search%253Fq%253Dyahoo%252Bfinance%252BGME%2526tbm%253Dnws%26hl%3Den&sa=U&ved=0ahUKEwj668nNwLv3AhUJpJUCHWj1B_EQxs8CCGA&usg=AOvVaw2vFEwpseb6WCHXCwxHgOrZ',\n",
       " 'https://www.google.com/preferences?hl=en-IN&fg=1&sa=X&ved=0ahUKEwj668nNwLv3AhUJpJUCHWj1B_EQ5fUCCGE',\n",
       " 'https://policies.google.com/privacy?hl=en-IN&fg=1',\n",
       " 'https://policies.google.com/terms?hl=en-IN&fg=1']"
      ]
     },
     "execution_count": 38,
     "metadata": {},
     "output_type": "execute_result"
    }
   ],
   "source": [
    "raw_urls['GME']"
   ]
  },
  {
   "cell_type": "markdown",
   "metadata": {},
   "source": [
    "## 4.2. Strip out unwanted URLs"
   ]
  },
  {
   "cell_type": "code",
   "execution_count": 39,
   "metadata": {},
   "outputs": [],
   "source": [
    "import re"
   ]
  },
  {
   "cell_type": "code",
   "execution_count": 40,
   "metadata": {},
   "outputs": [],
   "source": [
    "exclude_list = ['maps', 'policies', 'preferences', 'accounts', 'support']"
   ]
  },
  {
   "cell_type": "code",
   "execution_count": 41,
   "metadata": {},
   "outputs": [],
   "source": [
    "def strip_unwanted_urls(urls, exclude_list):\n",
    "    val = []\n",
    "    for url in urls: \n",
    "        if 'https://' in url and not any(exclude_word in url for exclude_word in exclude_list):\n",
    "            res = re.findall(r'(https?://\\S+)', url)[0].split('&')[0]\n",
    "            val.append(res)\n",
    "    return list(set(val))"
   ]
  },
  {
   "cell_type": "code",
   "execution_count": 42,
   "metadata": {},
   "outputs": [
    {
     "data": {
      "text/plain": [
       "{'GME': ['https://finance.yahoo.com/news/gamestop-gme-stock-sinks-market-220010614.html',\n",
       "  'https://finance.yahoo.com/video/taxes-2022-know-reporting-meme-161025450.html',\n",
       "  'https://finance.yahoo.com/news/taxes-2022-reporting-meme-stock-gains-and-losses-144648811.html',\n",
       "  'https://finance.yahoo.com/news/bear-day-gamestop-gme-110011956.html',\n",
       "  'https://finance.yahoo.com/news/nvidia-gamestop-highlighted-zacks-bull-125212967.html',\n",
       "  'https://finance.yahoo.com/news/u-orthopaedic-partners-announces-leadership-174300930.html',\n",
       "  'https://finance.yahoo.com/news/zacks-market-edge-highlights-gamestop-100610638.html',\n",
       "  'https://finance.yahoo.com/video/bed-bath-beyond-earnings-going-155741973.html',\n",
       "  'https://finance.yahoo.com/news/the-meme-stock-craze-is-pretty-bro-ey-sallie-krawcheck-175923007.html',\n",
       "  'https://investorplace.com/2022/04/gme-stock-gamestop-requires-a-tactical-approach-moving-forward/'],\n",
       " 'TSLA': ['https://finance.yahoo.com/longtime-tesla-rival-henrik-fisker-223000049.html',\n",
       "  'https://finance.yahoo.com/news/tesla-stock-stands-apart-growth-104807353.html',\n",
       "  'https://finance.yahoo.com/news/one-big-challenge-facing-tesla-that-has-nothing-to-do-with-elon-musks-twitter-bid-163542573.html',\n",
       "  'https://finance.yahoo.com/news/tesla-notches-record-profit-sees-000529793.html',\n",
       "  'https://finance.yahoo.com/news/juggling-twitter-and-tesla-would-require-constant-attention-by-elon-musk-expert-142238834.html',\n",
       "  'https://finance.yahoo.com/news/elon-musk-sold-4-billion-041452825.html',\n",
       "  'https://finance.yahoo.com/video/elon-musk-twitter-deal-means-133418736.html',\n",
       "  'https://uk.finance.yahoo.com/news/elon-musk-sells-8-5bn-181854583.html',\n",
       "  'https://finance.yahoo.com/news/tesla-insurance-colorado-oregon-virginia-200217835.html',\n",
       "  'https://finance.yahoo.com/video/twitter-tesla-both-musk-constant-153901595.html'],\n",
       " 'BTC': ['https://finance.yahoo.com/video/crypto-bahamas-2022-bitcoin-price-144641530.html',\n",
       "  'https://finance.yahoo.com/news/why-bitcoin-navigation-recent-global-080451109.html',\n",
       "  'https://finance.yahoo.com/news/panama-poised-approve-bitcoin-8-122024300.html',\n",
       "  'https://finance.yahoo.com/video/labor-department-official-concerns-adding-205640678.html',\n",
       "  'https://finance.yahoo.com/news/bit-digital-inc-announces-bitcoin-115900746.html',\n",
       "  'https://finance.yahoo.com/news/alex-adelman-rewards-bitcoin-180639118.html',\n",
       "  'https://finance.yahoo.com/news/king-lunatics-becomes-bitcoin-most-040002343.html',\n",
       "  'https://finance.yahoo.com/news/cathedra-bitcoin-announces-shipment-first-185200554.html',\n",
       "  'https://finance.yahoo.com/news/why-bitcoin-could-be-poised-to-fall-further-204052656.html',\n",
       "  'https://finance.yahoo.com/news/osd-german-bank-officially-offering-080900758.html']}"
      ]
     },
     "execution_count": 42,
     "metadata": {},
     "output_type": "execute_result"
    }
   ],
   "source": [
    "cleaned_urls = {ticker:strip_unwanted_urls(raw_urls[ticker], exclude_list) for ticker in monitored_tickers}\n",
    "cleaned_urls"
   ]
  },
  {
   "cell_type": "markdown",
   "metadata": {},
   "source": [
    "## 4.3. Search and Scrape Cleaned URLs"
   ]
  },
  {
   "cell_type": "code",
   "execution_count": 43,
   "metadata": {},
   "outputs": [],
   "source": [
    "def scrape_and_process(URLs):\n",
    "    ARTICLES = []\n",
    "    for url in URLs: \n",
    "        r = requests.get(url)\n",
    "        soup = BeautifulSoup(r.text, 'html.parser')\n",
    "        paragraphs = soup.find_all('p')\n",
    "        text = [paragraph.text for paragraph in paragraphs]\n",
    "        words = ' '.join(text).split(' ')[:350]\n",
    "        ARTICLE = ' '.join(words)\n",
    "        ARTICLES.append(ARTICLE)\n",
    "    return ARTICLES"
   ]
  },
  {
   "cell_type": "code",
   "execution_count": 44,
   "metadata": {},
   "outputs": [
    {
     "data": {
      "text/plain": [
       "{'GME': [\"GameStop (GME) closed at $129.31 in the latest trading session, marking a -0.41% move from the prior day. This change lagged the S&P 500's 2.48% gain on the day. Elsewhere, the Dow gained 1.85%, while the tech-heavy Nasdaq lost 0.09%. Heading into today, shares of the video game retailer had lost 22.18% over the past month, lagging the Retail-Wholesale sector's loss of 8.14% and the S&P 500's loss of 7.81% in that time. Investors will be hoping for strength from GameStop as it approaches its next earnings release. The company is expected to report EPS of -$1.37, down 204.44% from the prior-year quarter. Meanwhile, the Zacks Consensus Estimate for revenue is projecting net sales of $1.35 billion, up 5.95% from the year-ago period. Looking at the full year, our Zacks Consensus Estimates suggest analysts are expecting earnings of -$4.93 per share and revenue of $6.38 billion. These totals would mark changes of -8.11% and +6.22%, respectively, from last year. It is also important to note the recent changes to analyst estimates for GameStop. Recent revisions tend to reflect the latest near-term business trends. As a result, we can interpret positive estimate revisions as a good sign for the company's business outlook. Our research shows that these estimate changes are directly correlated with near-term stock prices. We developed the Zacks Rank to capitalize on this phenomenon. Our system takes these estimate changes into account and delivers a clear, actionable rating model. The Zacks Rank system, which ranges from #1 (Strong Buy) to #5 (Strong Sell), has an impressive outside-audited track record of outperformance, with #1 stocks generating an average annual return of +25% since 1988. Over the past month, the Zacks Consensus EPS estimate remained stagnant. GameStop is currently a Zacks Rank #5 (Strong Sell). The Retail - Consumer Electronics industry is part of the Retail-Wholesale sector. This group has a Zacks Industry Rank of 241, putting it in the bottom 5% of all 250+ industries. The Zacks Industry Rank includes is listed in order from best to worst in terms of the average Zacks Rank of the individual companies within\",\n",
       "  'Thank you for your patience. Our engineers are working quickly to resolve the issue.',\n",
       "  'Thank you for your patience. Our engineers are working quickly to resolve the issue.',\n",
       "  \"Wednesday, April 20 at 2 PM ET, Bill Smead joins Jared Blikre to discuss the massive rotations catching investors off guard. GameStop GME the “meme stock” that shook the financial markets to the core at the beginning of 2021, with a short-squeeze for the history books, is now enjoying another 15-minutes of fame. GME’s unprecedented trading activity showed Wall Street that this new generation of investors/traders possesses a market-moving power that they can't fight. GME has since evolved from a fundamentally-backed stock into a media-fueled gambling tool, with any hint of optimistic news (or any rumor at all really) driving heavy volume momentum back into this egregiously overvalued public equity. This has provided GameStop with seemingly endless funding, through secondary equity offerings of unquestionably overvalued stock. Still, the new management team is yet to provide any actionable plan for bringing this dying brick-and-mortar retailer back to life. The latest earnings highlighted “expanded brand relationships” with PC gaming partners (ambiguous to say the least) and the imminent launch of GameStop’s NFT marketplace by the end of April, which is a long way from being a quantifiable segment (and likely even further from profitability). As much as I want to believe in the GameStop comeback, its $13 billion market valuation is not even close to justified, with the management team offering investors no clear path to profitability. The company’s latest earnings report depicted the largest quarterly revenues for GameStop in 3 years. However, this topline expansion came at a substantial cost, revealing GME’s worst quarterly loss as a public company. Analysts are increasingly bearish on this position following a lackluster January quarter report, driving down EPS estimates across the board, dragging down GameStop (GME) to a Zacks Rank #5. Let me be clear about my recommendation: I am not suggesting that you short GME or take any position at all in the stock, but rather advocating for some profit-pulling with the shares looking shaky at its 200-day MA, toeing overbought levels after a 100% 2-weeks run up. The weekly option plays that are driving a large portion of the recent upside will\",\n",
       "  \"Another 185,000 Americans filed new claims last week Chicago, IL – April 14, 2022 – Zacks Equity Research shares NVIDIA NVDA as the Bull of the Day and GameStop GME \\xa0as the Bear of the Day. In addition, Zacks Equity Research provides analysis on The Mosaic Company MOS, and The Andersons, Inc. ANDE. Here is a synopsis of all four stocks: Market sentiment has never been more dissonant than it is today, as investors contemplate the implications of the structural upheaval the pandemic and resulting digital renaissance have had on our global economy. The pandemic rapidly accelerated a number of previously nascent economic shifts and seemed to mark a changing of the guard as Millennials claim their title as the largest consuming generation as well as the most future-focused. NVIDIA's revolutionary CEO, Jensen Huang, and his constant disdain for the status quo have driven his company to greatness, with every new market-disrupting innovation that this leading chipmaker releases (each sequential product/service release generating faster & greater improvements than the last) captivating the spirit of the next generation. NVDA is a must-have for every portfolio's innovation allocation and the -35% markdown from the all-time high it hit 6 months ago presents an excellent buying opportunity. Analysts' estimates have gone nowhere but up propelling NVDA into a Zacks Rank #1 (Strong Buy), and is now trading its lowest forward P/E since the pandemic capitulation (below 40x). NVIDIA, the largest and fast-growing semiconductor innovator in the US, has been a stock market star in recent years, skyrocketing over 500% in the past 3 years alone (despite its recent decline) as this GPU pioneer and its visionary leader, Jensen Huang, take the prolifically advancing chip sector by storm. NVIDIA's hyperfast GPUs became a data center necessity during the pandemic. Now the company is making moves to swiftly build out its cloud-software capabilities and take market share in the still-nascent metaverse space. NVDA has exhibited this infectious volatility that so many other richly valued innovators experienced in the first few months of 2022, sliding into bear market territory (20% or more decline from recent highs)\",\n",
       "  'ALPHARETTA , Ga., April 28, 2022 /PRNewswire/ -- U.S. Orthopaedic Partners (USOP), the rapidly-expanding network for private orthopaedic practices in the Southeastern United States recently announced two new leaders to its executive team. Kevin Navas was named Chief Operating Officer and Rhonda Gibby as Chief Human Resources Officer. \"As we remain focused on expanding USOP\\'s footprint, our longstanding goal has been to provide outstanding support and partnership for our affiliate groups,\" said Glen Silverman, Chief Executive Officer of U.S. Orthopaedic Partners. \"By rounding out our leadership team with these two key positions, we can further support our affiliated groups with the guidance of these accomplished executives.\" Kevin NavasKevin Navas joined USOP as Chief Operating Officer and will lead all operations across the enterprise. Before USOP, Navas served as a Senior Vice President leading the National Accounts Division for Healogics, Inc. He oversaw operations for 200 advanced wound care centers affiliated with the ten largest U.S. health systems. Prior to Healogics, Navas was the Chief Operating Officer for St. Petersburg General Hospital. During his tenure, Navas led the creation of a thoracic oncology program and Robotic Hernia Repair Center, achieved an ACR accredited Lung Cancer Screening Center, revamped the hospital\\'s breast program, developed a robotic surgical PA program and led the construction of a new interventional radiology suite. He was also the catalyst for significant improvement in physician satisfaction, patient experience and clinical outcomes. Navas also served as the Associate Administrator and interim COO at Manatee Memorial Hospital in Bradenton, FL. He provided operational oversight of all ancillary services departments, GME, wound care center, offsite outpatient rehab facility and the hospital\\'s employed physician practices subsidiary. Navas was Chief Financial Officer at DaVita Inc. of the Mid-Atlantic and Hospital Services Groups. He also worked on Wall Street as an investment banker and private equity investor closing more than $13 billion in acquisitions and financing transactions. Navas began his career with the U.S. Marine Corps, where he served as a Captain and Company Commander, leading Marines throughout the Pacific Rim. Kevin Navas is a graduate of the United States Naval Academy in Annapolis,',\n",
       "  'Check back at 8:30 a.m. ET for results Chicago, IL – March\\xa031, 2022 – Zacks Market Edge is a podcast hosted weekly by Zacks Stock Strategist Tracey Ryniec. Every week, Tracey will be joined by guests to discuss the hottest investing topics in stocks, bonds and ETFs and how it impacts your life. To listen to the podcast, click here:\\xa0https://www.zacks.com/stock/news/1890009/meme-stocks-are-back Welcome to Episode #308 of the Zacks Market Edge Podcast. (1:00) - Breaking Down The Market Rally: Is It Here To Stay? (11:50) - Are The FAANG Still Strong Long Term Investments? (20:10) - Where Should Investors Be Looking For New Trades? (27:45) - Episode Roundup: GME, AMC, BBBY, FB, AAPL, CVX, GSL, SQ  Podcast@Zacks.com \\xa0 Every week, host and Zacks stock strategist, Tracey Ryniec, will be joined by guests to discuss the hottest investing topics in stocks, bonds and ETFs and how it impacts your life. This week Zacks Stock Strategist, Bryan Hayes, making his first ever appearance on the podcast, joins the show to discuss what is going on with the stock market, especially in the more speculative stocks, such as the meme stocks. You remember those, right? Gamestop, AMC Entertainment and Bed Bath & Beyond, just to name three. In 2021, all three soared to new multi-year highs, led by a group of traders off of Reddit and Wall Street Bets. It seemed like the recent bear correction might have wiped away the trading in the meme stocks but in the last two weeks of March, they have made a triumphant comeback. But they aren\\'t the only ones. The \"sure thing\" FANGMAN stocks, including Apple and Meta Platforms, have also rallied off recent lows. Should investors be jumping in? 1.\\xa0\\xa0\\xa0\\xa0\\xa0\\xa0 GameStop (GME)  GameStop shares have surged 45.9% over the last month and are up 27.6% in just the last 5 days. However, over the last year, they\\'re still down 0.6%. Long gone are the days when GameStop soared over 5,000% but if you bought 2 years ago, you\\'d still be up 4,163%. Is GameStop back in favor among the memesters? 2.\\xa0\\xa0\\xa0\\xa0\\xa0\\xa0 AMC Entertainment (AMC) ',\n",
       "  'Thank you for your patience. Our engineers are working quickly to resolve the issue.',\n",
       "  'The meme stock craze — which multiplied the value of beleaguered companies like GameStop (GME) and squeezed hedge funds that bet against them — became a symbol of the populist fight between small-time traders and Wall Street juggernauts. But the most visible figures associated with the movement on behalf of everyday traders, which took off in January 2021, shared something in common: their gender. Keith Gill, a day trader who rose to prominence through his YouTube persona \"Roaring Kitty,\" is a man; and so are Vlad Tenev and Baiju Bhatt, the co-founders of buzzy trading platform Robinhood (HOOD). The prevalence of male leaders tied to the meme stock craze likely would not surprise Sallie Krawcheck, the co-founder and CEO of a trading platform for women called Ellevest. In a new interview, Krawcheck described the trading phenomenon as \"pretty bro-ey,\" saying men download trading apps in higher numbers than women, in part because women enjoy less leisure time as they take responsibility for a larger share of the tasks at home. \"It\\'s pretty bro-ey,\" Krawcheck said of the meme stock phenomenon. \"It doesn\\'t mean that there aren\\'t women who were doing it, and we saw some sort of wash in and wash out of Ellevest last year because of it.\" \"We were looking at the downloads of the Apple apps, the fintech apps — it\\'s mostly men,\" she adds. Trading in viral stocks last January was much more common among men than women, according to a poll conducted by Yahoo Finance-Harris in February 2021. Forty percent of men surveyed had traded in a viral stock like GameStop or AMC (AMC), as opposed to 17% of women, the poll found. The gender disparity among those who joined the meme stock craze was mirrored in the overall active trading population at the time, according to a Morning Consult survey conducted in late January and early February of 2021. Eighty-three percent of women told pollsters they did not actively trade stocks, while 53% of men said the same, the poll found. The \"investing gap\" between men and women is a key reason behind the',\n",
       "  '\\n\\t\\t\\tCopyright © 2022 InvestorPlace Media, LLC. All rights reserved. 1125 N. Charles St, Baltimore, MD 21201.\\t\\t BRACE YOURSELF: DIVERGENCE IS COMING 14 years ago, a rare divergence anomaly turned market volatility into back-tested gains of 2,150%, 591% and 861%... Luke Lango and Louis Navellier believe an even bigger divergence is coming — and they’ve got the #1 way to play it. \\n\\t\\t\\tGo with the flow and never mess with the GME stock fans\\t\\t In order to describe GameStop (NYSE:GME) stock I would need to use terms like resilient and contentious. In the hands of relatively new traders, GME stock has become a weapon to slay hedge funds. Since 2020, many pros tried to bring GME to its knees. But a bunch of them went broke doing it. Those who survived are shrinking to survive their wounds from being short GME stock. This is a hot stock, so there is no use messing with its devotees. What has been less clear is the viability of the business going forward. Judging purely by the financial results, there isn’t a good story to tell. Revenues have been shrinking for a long while. Last year, GME revenues were 35% smaller than seven years ago. The 2021 net income was a decline of $382 million versus a $402 million gain in 2015. Clearly the trend is not the friend of GameStop stock investors. At least not on paper. Despite its woeful financial metrics, this hasn’t translated into stock losses. GME stock now is 400% higher than in 2015 when the business was much stronger. The reaction in the stock from the pandemic was counterintuitive and borderline stupid. However, the Wall Street adage to not fight the tape applies perfectly here. It doesn’t matter what we think of the stock, what matters more is how it’s trading. It’s easy to get emotional and to want to fight the trend out of principle. But the results can be financial devastation as even pros have been learning. I am not bearish the stock, but it’s definitely not my favorite. If you force me to trade it, I would'],\n",
       " 'TSLA': [' Electric vehicle pioneer and Tesla competitor Henrik Fisker exited Twitter this week after his old rival Elon Musk reached an agreement to buy the social media platform for $44 billion. Fisker, who oversees electric vehicle maker Fisker Inc., wrote on Instagram Tuesday: “I believe 100% in free speech. But I do not want my free speech to be actively managed or controlled by a competitor. And I do not want a competitor to determine how my followers experience Fisker as we grow our company.” Fisker’s Twitter handle no longer exists, though his company’s Twitter feed remained active as of Tuesday with a post of Henrik Fisker test driving a vehicle. Musk did not appear to directly react to Fisker’s move on Tuesday, tweeting two general messages about free speech. Fisker and Musk have long been adversaries. Tesla sued Fisker in 2008 alleging his design company stole Tesla technology and used it to develop his own vehicle. An arbitrator ruled in favor of Fisker. Henrik Fisker did design work on the Tesla Model S sedan before the car launched, when the project was known by the codename WhiteStar. In the early 2010s, Fisker’s first carmaker, Fisker Automotive, was a rival to Tesla and, for a while, they were on nearly equal footing as Fisker promised to bring his attractive sedan called the Karma to market followed up by a string of sleek cars and crossovers. The company, however, had issues with its battery packs and was hit with a string of bad luck, including losing a shipment of vehicles due to fires and floods related to Hurricane Sandy in 2012. It went bankrupt in 2013. The EV landscape has changed dramatically since then, with most major automakers investing heavily in the technology and newcomers like Lucid and Rivian joining the fray. Tesla, meanwhile, took off and catapulted Musk to even greater international fame, along with his PayPal and SpaceX ventures. Henrik Fisker regrouped and founded Fisker Inc. in 2016. It went public in 2020 and is planning to launch the Ocean SUV this year. Before founding EV startups, Fisker was',\n",
       "  '(Bloomberg) -- Tesla Inc.’s ability to navigate a global supply crunch and exceed Wall Street expectations has given its stock a rare distinction among big, fast-growing companies: It’s poised to erase most of its losses for the year. Most Read from Bloomberg Kremlin Insiders Alarmed Over Growing Toll of Putin’s War in Ukraine Putin Calls Off Storm of Mariupol With Ukraine Troops Surrounded Obamas to Leave Spotify, Seek Podcast Deal Elsewhere Netflix Rout Is Worst Since 2004, Punishing Roku and Disney, Too Ackman Loses More Than $430 Million on 3-Month Netflix Bet The electric-car maker’s earnings Wednesday showed that Elon Musk’s company has not only managed the shortages, but also succeeded in protecting its margins by raising prices on its cars. The stock rose as much as 10.5% to $1,079.90 in New York on Thursday, resulting in a nearly 2% gain for the year. Tesla is often compared to the so-called FAANG stocks, which have long enjoyed similar reputations as fast-growing businesses with high valuations and devoted fan bases among investors. But while many of those companies struggle to attract new customers in relatively saturated markets, Tesla is still in the process of ramping up production and has a large untapped addressable market. “Tesla has one key advantage over most tech names -- it is still in the early innings of its growth story,” said Nicholas Colas, co-founder of DataTrek Research. “In that respect it is different from Netflix or Facebook or even Apple, Microsoft and Amazon; all those companies have great market share but the growth stories are less powerful than Tesla’s.” The economic and political backdrop also hasn’t dented investor enthusiasm for Tesla shares. Rising inflation, tighter monetary policy from the U.S. central bank and the war in Ukraine have weighed on stocks with high valuations this year, as investors seek refuge in safer investments. Yet Tesla, at 90 times estimated earnings for the next year, is more expensive than the FAANG stocks, and also of a wider group of similar companies in the NYSE FANG+ Index. And still it’s managed to outperform those peers. Tesla also has',\n",
       "  'When Tesla (TSLA) reports earnings on Wednesday, all eyes won\\'t be on whether Elon Musk comments on his bid for Twitter on the earnings call (or if he is even on the call) but rather how big of a hit the company will experience due to a Shanghai factory production shutdown. \"With Berlin and Austin key factories now online and producing Model Y\\'s in a quickly ramping pace, the main question for tomorrow is just how bad the China production issues are and what that means for deliveries in 2Q and the rest of the year,\" said Wedbush analyst Dan Ives. Ives thinks the hit to Tesla could be sizable. \"We estimate that roughly 50k units are now reduced for the June quarter for starters given the last three weeks of shutdown and depending on how aggressively Tesla can ramp back production could be impacted further over the next month. Musk & Co. are in a tough spot, as there are so many variables around 2Q China production that will certainly weigh on guidance for the rest of the year and thus has been a clear overhang on the stock over the past month,\" the closely watched analyst said. Tesla is expected by Wall Street to deliver $17.76 billion in sales for the quarter and earnings of $2.26 a share. A year ago, Tesla produced sales of $10.4 billion and earnings of $0.93. The Street is modeling for Tesla\\'s earnings to reach $10.64 in 2022, a number that could be at risk given the China factory shutdown. Indeed Tesla investors are entering the quarter nervously. Shares of the EV maker are down about 4% since April 4. The stock has come under increased selling pressure as Musk put in a $43 billion bid last week to buy Twitter. But Wall Street is generally staying upbeat on Tesla despite the array of distractions for Tesla. Ives still rates the stock at an outperform with a $1,400 price target. \"We remain bullish on the Tesla story as the company navigates near-term production issues with strong consumer EV demand our focus for 2022',\n",
       "  '(Bloomberg) -- Tesla Inc. shares rose after the carmaker reported better-than-expected earnings and Elon Musk predicted production will grow at a fast clip for the rest of the year despite supply chain challenges. Most Read from Bloomberg Kremlin Insiders Alarmed Over Growing Toll of Putin’s War in Ukraine Netflix Rout Is Worst Since 2004, Punishing Roku and Disney, Too Ackman Loses More Than $430 Million on 3-Month Netflix Bet Russia Test-Fires Nuclear-Capable ICBM in Warning to U.S. Allies Ukrainian Troops Risk Being Encircled in New Russian Offensive The first major U.S. automaker to report financial results for the first three months handily beat estimates with a record quarterly profit. While Tesla cautioned that it remains constrained by shortages of materials and components -- a common refrain for automakers plagued by bottlenecks of parts such as semiconductors -- its ability to overcome obstacles is setting itself apart. “The more we see out of Tesla, the more we are concerned about the rest of the industry’s ability to play catch-up,” Morgan Stanley analyst Adam Jonas wrote in a note. Tesla shares climbed as much as 11% in premarket trading Thursday, more than enough to erase its 7.5% loss for the year through Wednesday if the gain holds up. Musk, Tesla’s chief executive officer, said the company should be able to make up for any production losses in the first half of the year from coronavirus-related shutdowns at its factory in Shanghai. He said Tesla is on track to expand production to more than 1.5 million vehicles this year, implying more than 60% growth. “We may pull a rabbit out of the hat,” Musk said during an earnings call, adding that he expects production in the third and fourth quarters will be “substantially higher.” Earnings excluding some items jumped to $3.22 a share in the first quarter, Tesla said in its shareholder deck, beating analysts’ average estimate for $2.27 a share. Revenue soared 81% to $18.8 billion, also topping projections. Tesla got a revenue boost from regulatory credits totaling $679 million, more than double the amount generated during the previous quarter. Chief Financial',\n",
       "  \"Tesla (TSLA) shares fell on Tuesday amid investor concerns that CEO Elon Musk would need to sell shares in order to fund a portion of his $44 billion buyout of Twitter (TWTR). Meanwhile, Twitter’s shares have recovered from a late-March trough ahead of the buyout deal. Columbia Law School Professor John Coffee believes that it will be challenging for Musk to juggle managing Tesla and Twitter simultaneously — on top of SpaceX, The Boring Company, and Neuralink. “Moreover, Tesla is going to need constant management, and so is Twitter,” Coffee told Yahoo Finance Live. “Musk wants to change everything in Twitter involving how it presents information, how it gets its revenues, how it staffs things. All that's going to take constant attention, and so is Tesla, which is fairly thin when managing debt.” Coffee joined Yahoo Finance Live to break down what the Elon Musk Twitter takeover means for investors. Musk has secured $25.5 billion of fully committed debt and margin loan financing and is providing around $21 billion of equity commitment. Twitter shareholders are expected to receive $54.20 per share, and once the deal is complete, the company will be taken private. The deal is anticipated to close around September to October. Although Musk’s plans for Twitter are still uncertain, he stated in a press release that he intends to bring some overhauling changes to the user experience and culture of the social media platform. He expressed interest in adding new features, making algorithms open source to increase trust, combating spam bot activity, and authenticating users. “All of that's going to require elaborate disclosure and may produce some controversies, but I don't think there's a [regulatory] deal breaker in all that,” Coffee said. At this point, Coffee does not anticipate significant regulatory hurdles on the path towards closing for the buyout deal. He attributed this to the nature of Tesla’s business and its positioning in relation to social media. “There's no real antitrust problem here. There would be for anyone else,” he added. “Disney (DIS) would love to own Twitter, but it can't because they're both close enough to\",\n",
       "  'Elon Musk sold 4.4 million Tesla shares worth $4 billion over two days this week, SEC filings show. The billionaire is raising funds to complete his $44 billion deal to acquire Twitter. \"No further Tesla sales planned after today,\" Musk tweeted after the filings were made public. Tesla founder and CEO Elon Musk sold $4 billion worth of Tesla shares over two days, five SEC filings on Thursday show. The sale of 4.4 million shares took place on April 26 and 27, just days after Twitter agreed to the billionaire\\'s $44 billion offer to take the company private. \"No further Tesla sales planned after today,\" Musk tweeted after the filings were made public. The sale comes as Musk raises funds to complete his Twitter acquisition. Musk needed to use his Tesla stock to raise $21 billion in equity to fund his $44 billion takeover of Twitter, Insider\\'s Aaron Weinman reported previously. Some $13 billion will be from debt, while another $12.5 billion will come through a margin loan with his Tesla shares as collateral, per the report. Musk\\'s latest purchase is unnerving Tesla\\'s shareholders, some of whom are retail investors. They\\'re concerned that Twitter\\'s inability to generate income will in turn force the billionaire to turn elsewhere to raise more money to pay the debt needed to finance the privatization deal, Insider\\'s Linette Lopez wrote. Tesla\\'s market value has been shrinking ever since April 4, when Musk disclosed a 9.2% stake in the social media platform. On April 26, the day Musk struck a deal to buy Twitter, the electric carmaker\\'s share price fell 12%, per Lopez\\'s report. Tesla\\'s shares closed at $877.51 apiece on Thursday before the filings about Musk\\'s offloading of his stake were made public. Read the original article on Business Insider In a leaked video, Edward Snowden emerges as the sixth participant in the legendary creation of Zcash. China has slammed Australia for opposing its security pact with Solomon Islands, calling it a colonialist myth-driven violation of sovereignty and saying Canberra had no right to lay down any \"red line\". This came as Australian Prime Minister',\n",
       "  'Thank you for your patience. Our engineers are working quickly to resolve the issue.',\n",
       "  'Whether your dream home is a country pile or a sleek urban penthouse, these properties are the last word in luxury Tesla boss Elon Musk has sold around $8.5bn worth of shares in the electric vehicle company following his successful $44bn bid for Twitter. The entrepreneur sold $3.3bn worth of Tesla stock on Tuesday and another $654m on Wednesday, according to filings with the Securities and Exchange Commission. And on Friday morning, SEC filings showed that Mr Musk has sold another $4.5bn worth of shares as he raises the money needed to buy the social media platform. Mr Musk is the world’s richest man with a personal fortune of $252bn, but most of his wealth is tied up in his Tesla stock. Twitter’s board on Monday accepted Mr Musk’s offer of $54.20 per share in cash for total control of the company, that he has said he will take private. The deal, which was unanimously recommended by the board, still needs to be ratified by shareholders and pass regulatory scrutiny. Mr Musk, who has not confirmed exactly why he sold the shares, already owns nine per cent of Twitter. On Thursday evening he took to Twitter and said, “No further TSLA sales planned after today.” He has put up $21bn of his own money to buy the social media company and is borrowing another $12.5bn, while Morgan Stanley is funding another $13bn. The 50-year-old is Tesla’s largest shareholder wit ha 17 per cent stake, and last year he sold more than $16bn worth. The move came after Mr Musk asked his 88 million Twitter followers in a poll if he should sell ten per cent of his Tesla stock. Mr Musk will likely make some significant changes to the social media platform, having made several hints in recent months about what his intentions are. It comes after Musk’s friend Jack Dorsey stepped down as CEO and Parag Agrawal took over. Changes could include a new CEO, worker layoffs and even monetising tweets by charging publishers to embed them, according to some reports. Jeff Bezos saw more than $21bn (£17bn) wiped',\n",
       "  'Thank you for your patience. Our engineers are working quickly to resolve the issue.',\n",
       "  'Thank you for your patience. Our engineers are working quickly to resolve the issue.'],\n",
       " 'BTC': ['Thank you for your patience. Our engineers are working quickly to resolve the issue.',\n",
       "  'Around the world, venture capitalists have collectively invested $30 billion in cryptocurrency or Web 3.0 startups throughout 2021, with institutions like Tesla, Block, and MicroStrategy all incorporating Bitcoin into their balance sheets. These astronomical figures are made all the more impressive considering that Bitcoin, the world’s first cryptocurrency, has only existed since 2008 – and has since accumulated a value of $41,000 per coin, at the time of writing. 2021 represented a boom period for Bitcoin, as decentralized finance and NFTs grew into the ecosystem, presenting fresh opportunities for investors and enterprises alike, but the year also ended with brand new challenges for the asset as global inflation rates hit the pockets of investors hard. As geopolitical tensions in Eastern Europe spilled over, it represented an unprecedented test for the staying power of Bitcoin. Although it’s early days, we can see evidence of Bitcoin trending upwards in the wake of Russia’s invasion of Ukraine – suggesting that the asset is still regarded as a safe haven asset for investors amidst a testing economic landscape. Institutional interest in Bitcoin and the wider cryptocurrency landscape is rife. Besides leading trading platforms like Coinbase, a growing number of institutions are investing in various crypto projects. In the case of software developer MicroStrategy, the company is simply purchasing BTC with the intention of holding it on its balance sheet. Others have developed tools to enable the broader integration of cryptocurrency into the economy. Silvergate Capital, for instance, operates a network that enables the around-the-clock remittance of dollars and euros – a key capability as cryptocurrency markets never close. To facilitate this, Silvergate acquired the stablecoin assets from Diem Association. Elsewhere, financial services company, Block, has been looking at developing applications for everyday use as a digital alternative to fiat currency. Google Cloud also launched its own blockchain division to help customers accommodate the emerging technology. As more institutions look to develop blockchain and cryptocurrency solutions, it’s highly likely that it will result in considerably better staying power for the likes of Bitcoin and other crypto. In turn, better institutional interest is likely to help',\n",
       "  'Lawmakers in Panama, the Latin American country with a reputation as a tax haven, have approved a bill that would regulate the use of Bitcoin and eight other cryptocurrencies and approve their use for paying taxes and for private transactions. Gabriel Silva, a Panamanian lawmaker who promoted the bill, said on Twitter Thursday that the country’s National Assembly had passed the legislation. The bill will now pass to Panama’s president, Laurentino Cortizo, for his signature. “This will help Panama become a hub of innovation and technology in Latin America,” Silva said, arguing that the legislation “will help create jobs and financial inclusion.” A copy of the draft bill, shared by Silva on social media, said citizens, banks, and legal entities in Panama would be permitted to use several cryptocurrencies as a means of payment “without limitation.” Those were: Bitcoin, Ethereum, XRP, Litecoin, XDC Network, Elrond, Stellar, IOTA and Algorand. The currencies would be accepted as payment in both civil and commercial capacities, the bill said. https://twitter.com/gabrielsilva8_7/status/1519713071467483139 The cryptocurrencies named in the bill vary wildly in value. For example, while Bitcoin was trading at around $38,870 on Friday, according to Coinbase, XDC Network was worth just $0.057. The “tokenization of precious metals and other goods” would also be permitted under the new law, according to the bill. Panama’s adoption of the legislation would see it follow in the footsteps of El Salvador and the Central African Republic, with both countries having already approved Bitcoin as an official currency. In Panama, however, it won\\'t be obligatory to accept the cryptos, meaning they won\\'t be legal tender per se. The bill said Panama would launch an official digital wallet, similar to El Salvador’s Chivo app, to allow residents to “carry out transactions of these new technologies in a safe way.\" In a TikTok video posted after lawmakers approved the bill, Silva said implementing blockchain technology—the decentralized platform that enables cryptocurrency transactions—would be used by Panama’s government to enable “faster, more efficient and transparent processes.” He claimed that the law would be regulated by a watchdog and all cryptocurrencies and digital assets would be',\n",
       "  'Thank you for your patience. Our engineers are working quickly to resolve the issue.',\n",
       "  'NEW YORK, April 29, 2022 /PRNewswire/ -- Bit Digital, Inc. (Nasdaq: BTBT) (\"Bit Digital\" or the \"Company\"), a bitcoin mining company headquartered in New York, announced its unaudited bitcoin production and mining operations update for the first quarter ended March 31, 2022. Preliminary First Quarter 2022 Highlights The Company earned 194.48 bitcoins and 189.26 ETH during the quarter. Factors impacting production included the Company\\'s ongoing miner redeployment program, growth in the overall bitcoin network hash rate, and the number of days in the quarter. Treasury holdings of BTC and ETH were 832.14 and 266.71, with a fair market value of approximately $37.9 million and $0.9 million on March 31, 2022, respectively. As of March 31, 2022, 36.9% of our owned fleet, or 9,748 bitcoin miners and 713 Ethereum miners representing 0.544 Exahash (\"EH/s\") and 0.188 Terahash (\"TH/s\") respectively, was deployed in North America. 27.8% of our fleet, or 7,710 bitcoin miners representing 0.457 EH/s, was deployed in North America as of December 31, 2021. The Company owned 27,644 bitcoin miners and 731 Ethereum miners as of March 31, 2022, with an estimated maximum total hash rate of 1.6 EH/s and 0.3 TH/s, respectively. As of April 27, 2022, the Company owned 30,865 bitcoin miners with an estimated maximum total hash rate of 1.9 EH/s. As of the date of this press release, the Company had received 2,515 machines pursuant to its previously announced 10,000-unit purchase agreement with Bitmain Technologies Limited. The final installment is expected to ship in June 2022. Pro forma for these announced purchases, our maximum total hash rate is expected to be approximately 2.67 EH/s. The Company purchased 706 bitcoin miners on the spot market during the first quarter. The Company took delivery of these machines during April 2022. The Company also sold 100 MicroBT Whatsminer M21S bitcoin miners during the quarter. Approximately 67% of our fleet\\'s electricity consumption was generated from carbon-free energy sources as of March 31, 2022, based on data provided by our hosts, publicly available sources, and internal estimates, demonstrating our commitment to sustainable practices in the digital asset mining industry. Miner Deployments',\n",
       "  'Don\\'t miss CoinDesk\\'s Consensus 2022, the must-attend crypto & blockchain festival experience of the year in Austin, TX this June 9-12. Bitcoin Pizza Day on May 22 is fast approaching. It will mark the 12th anniversary of an annual celebration of Bitcoin and a solemn parable for the virtue of HODLing. (Laszlo Hanyecz spent 100,000 bitcoin (BTC) on two pizzas, crypto that’s now worth upwards of $4 billion.) A decade ago, Bitcoin was considered a digital payment system (rather than the store of value narrative today), and Bitcoin enthusiasts would spend hundreds of bitcoins (then worth only couple of bucks) on everyday items like coffee and pizza. But times have changed. These days bitcoiners typically want to acquire as much bitcoin as possible – or “stack sats” as they call it. And what could be an efficient way of stacking sats? Alex Adelman, co-founder and CEO of bitcoin rewards company Lolli, thinks he’s unlocked the answer. Lolli lets people earn up to 12% back in bitcoin when they make purchases using U.S. dollars from companies like Nike, Adidas, eBay and many more. This article is part of Road to Consensus, a series highlighting speakers and the big ideas they will discuss at Consensus 2022, CoinDesk\\'s festival of the year June 9-12 in Austin, Texas. Learn more. Adelman has a long track record in e-commerce. In 2017, he was selected to the Forbes 30 Under 30 list for the retail and e-commerce category. So his journey to launching Lolli is anything but a coincidence. He was previously the CEO and co-founder of Cosmic (acquired by PopSugar, then Ebates), an e-commerce infrastructure company. At Cosmic, Adelman and his co-founder invented the \"buy button,” which has now become a common piece of online architecture. As an economics major, he was influenced by Muhammed Yunus’ microfinance experiments in Bangladesh, which demonstrated (among other things) how access to mobile phones can empower the poor. Adelman’s approach to Bitcoin comes from a similar conviction: The idea that Bitcoin as a software is a powerful financial force that could unleash trickle-up economics. And for that reason, he’s',\n",
       "  \"(Bloomberg) -- Back in 2016, when Do Kwon was just a little-known startup founder with grand ambitions of bringing free internet to all, he noticed his research on distributed networks kept bringing up stuff on Bitcoin and Ethereum. Most Read from Bloomberg In Defense of Elon Musk's Managerial Excellence U.S. Stops Mask Requirement on Planes After Judge’s Ruling Ukraine Update: Russia Assault in Donbas, EU Mulls Postwar Costs Global Investors Flee China Fearing That Risks Eclipse Rewards Tesla Autopilot Stirs U.S. Alarm as ‘Disaster Waiting to Happen’ Next thing he knew, he’d fallen “down the crypto rabbit hole.” Fast forward to today, and this relative newcomer is now one of the most influential — and controversial — figures in that rabbit hole. On one side are the legions of fans and deep-pocketed crypto backers called “Lunatics,” who have turned Kwon’s vision of engineering a stable, digital currency that’s both easy to spend in real life and free from the tentacles of Wall Street and government regulators into one of the biggest blockchain projects to date — with tens of billions of dollars’ worth of crypto tied to the ecosystem. (“Lunatics,” for the uninitiated, is a nod to the Luna token, which through some algorithmic wizardry, is designed to keep the Terra stablecoin, commonly referred to as UST, stable. More on that later.) On the other are the critics, including within crypto itself, who say Kwon is doomed to fail. Some liken the seemingly too-good-to-be-true 20% interest on the Terra blockchain’s lending-and-borrowing program to one big Ponzi scheme that will ultimately collapse under its own weight. Others warn — albeit without much evidence — that it risks bringing down the entire world of digital assets. At the center of it all is Kwon, the 30-year-old “King of the Lunatics.” This year, a group led by Kwon wowed the laser-eye crowd by buying more than $1.5 billion in Bitcoin to help prop up Terra, with plans to purchase as much as $10 billion worth of the token. That’s made it not only one of the original cryptocurrency’s biggest whales, but also a\",\n",
       "  'TORONTO, April 29, 2022--(BUSINESS WIRE)--(Block Height: 734,131) – Cathedra Bitcoin Inc. (TSX-V: CBIT; OTCQX: CBTTF) (\"Cathedra\"), a Bitcoin company that develops and operates world-class bitcoin mining infrastructure, today announces its first batch of 750 new Bitmain Antminer S19j Pro mining machines has shipped and is expected to be delivered to the Company’s Washington facility in the coming days. 560 of the new machines will be installed at the Company’s Washington facility, where they will replace fully depreciated Bitmain Antminer S9 machines and are expected to increase Cathedra’s hash rate by 35 PH/s to a total of 67 PH/s. The remaining 190 machines will be delivered to the Company’s New Hampshire manufacturing facility, where they will be used to test the first completed batch of Cathedra’s bitcoin mining rovers—modular, mobile bitcoin mining datacenters. Cathedra has purchased an additional 4,350 latest-generation machines that will be delivered in batches each month through the end of the year. The Company expects to deploy these machines at a combination of on- and off-grid mining locations, pursuant to its diversified approach to site selection and operations. Upon full deployment, the Company expects these machines to bring its total hash rate to 725 PH/s by year-end. About Cathedra Bitcoin Cathedra Bitcoin Inc. (TSX-V: CBIT; OTCQX: CBTTF) is a Bitcoin company that develops and operates world-class bitcoin mining infrastructure. Cathedra believes sound money and abundant energy are the fundamental ingredients to human progress and is committed to advancing both by working closely with the energy sector to secure the Bitcoin network. Today, Cathedra owns 187 PH/s across various sites around the United States and expects to deploy an additional 538 PH/s in 2022. Upon the full deployment of its purchased machines, Cathedra’s hash rate is expected to total 725 PH/s. The Company is focused on expanding its portfolio of hash rate through a diversified approach to site selection and operations, utilizing multiple energy sources across various jurisdictions. For more information about Cathedra, visit cathedra.com or follow Company news on Twitter at @CathedraBitcoin. Cautionary Statement Trading in the securities of the Company should be considered highly speculative. No stock',\n",
       "  \"Under tightening monetary pressures from central banks, Bitcoin (BTC-USD) is trading like “an overpriced tech stock,” as one analyst noted. That could potentially mean poor performance for the next few months. Bitcoin began trading this week above $40,400 Sunday before its correction early Monday morning where it slipped below $39,000 during Asian trading hours. After recovering Monday, the largest cryptocurrency briefly wafted above $42,000 before settling back\\xa0at $41,168 Wednesday afternoon. Meanwhile, the global market capitalization for all crypto assets currently holds $1.90 trillion, a 2% increase over the past month from $1.85 trillion, according to Coinmarketcap. No one really knows how Bitcoin, which represents 40% of the total crypto market, will perform relative to the stocks during this cycle of monetary tightening. One analyst projects the next few months could be rocky given how technology stocks dropped amid the Fed’s previous tightening cycle. On major centralized crypto exchanges, the buyer interest for Bitcoin has waned to a 10-month low, according to a report from blockchain research firm Kaiko. Last week’s trading volume for blue chip cryptocurrencies, Bitcoin and Ether (ETH-USD), hit its lowest level since June 2021. More concerning to analysts is the ever increasing correlation between cryptocurrencies and risk-on technology stocks best captured through the Nasdaq. Netflix is down more than 35% after reporting earnings Tuesday that showed it lost subscribers for the first time in 10 years. Citing easing pandemic restrictions for the drop, some analysts are beginning to see it as the latest swan song for the sector with the Nasdaq Composite having sold off by 15% so far this year. “The tech sector has had a rough year as a result of the drastically changing interest rate environment and results like those from Netflix don't help,” Oanda analyst Craig Erlam wrote in a Wednesday research note. Amid the sell-off, Bitcoin’s 30-day correlation to tech stocks has climbed to highs not seen since the pandemic boosted technology earnings in July 2020, according to Vetle Lunde, an analyst with digital asset manager, Arcane Research. Bitcoin’s 10- and 30-day correlation to the Nasdaq index has been rising through 2022.\",\n",
       "  'VIENNA, April 29, 2022 /PRNewswire/ -- Even the global COVID-19 pandemic over the past two years has not stopped the continued interest in Bitcoin. Bitcoin is increasingly becoming an investment object for many small investors. So far, the step into the crypto world has not been easy for these small investors, mainly because of the high technical requirements and also the protection of their own crypto assets, which required an advanced understanding of the technology behind. Buying Bitcoin and a secure cold wallet storage simply via online banking This fact is changing for all customers of the German bank \"Raiffeisen Volksbank Bayern Mitte\". After an extensive pilot and test phase, the German bank is now officially offering the proven Bitcoin cold wallet solution \"chainlock\" of the Austrian State Printing House (OSD) to their customers as an easy and highly secure storage for their Bitcoin. All customers of Volksbank Raiffeisenbank Bayern Mitte can buy and trade Bitcoin directly via online banking. For a secure storage, the bank also offers OSDs cold wallet solution under the name \"VR-BitcoinGoCard\". Innovative cold wallet infused with high security know how The new \"VR-BitcoinGoCard\" relies on maximum security and on the know how of more than 200 years of high security document printing. \"Our cold wallet has the shape of a common credit card and is manufactured in the specially protected high security area of OSD - the same high-security area in which Austrian passports, driver\\'s licenses and other high-security documents are produced,\" explains OSD Managing Director Lukas Praml. In addition, the card relies on many security features that are also used on official ID documents such as a passport or driver\\'s license. In addition to holograms, optically variable image elements (a so-called \"DOVID\") and microprinting, each cold wallet is also protected by UV printing and hardened against physical manipulation by a special high security film. Additionally, all users are instructed to check their received cold wallet by following an easy step-by-step guide offered via smartphone app. This way, users can be assured that no physical manipulation of the card has taken place and all digital']}"
      ]
     },
     "execution_count": 44,
     "metadata": {},
     "output_type": "execute_result"
    }
   ],
   "source": [
    "articles = {ticker:scrape_and_process(cleaned_urls[ticker]) for ticker in monitored_tickers}\n",
    "articles"
   ]
  },
  {
   "cell_type": "code",
   "execution_count": 45,
   "metadata": {},
   "outputs": [
    {
     "data": {
      "text/plain": [
       "'When Tesla (TSLA) reports earnings on Wednesday, all eyes won\\'t be on whether Elon Musk comments on his bid for Twitter on the earnings call (or if he is even on the call) but rather how big of a hit the company will experience due to a Shanghai factory production shutdown. \"With Berlin and Austin key factories now online and producing Model Y\\'s in a quickly ramping pace, the main question for tomorrow is just how bad the China production issues are and what that means for deliveries in 2Q and the rest of the year,\" said Wedbush analyst Dan Ives. Ives thinks the hit to Tesla could be sizable. \"We estimate that roughly 50k units are now reduced for the June quarter for starters given the last three weeks of shutdown and depending on how aggressively Tesla can ramp back production could be impacted further over the next month. Musk & Co. are in a tough spot, as there are so many variables around 2Q China production that will certainly weigh on guidance for the rest of the year and thus has been a clear overhang on the stock over the past month,\" the closely watched analyst said. Tesla is expected by Wall Street to deliver $17.76 billion in sales for the quarter and earnings of $2.26 a share. A year ago, Tesla produced sales of $10.4 billion and earnings of $0.93. The Street is modeling for Tesla\\'s earnings to reach $10.64 in 2022, a number that could be at risk given the China factory shutdown. Indeed Tesla investors are entering the quarter nervously. Shares of the EV maker are down about 4% since April 4. The stock has come under increased selling pressure as Musk put in a $43 billion bid last week to buy Twitter. But Wall Street is generally staying upbeat on Tesla despite the array of distractions for Tesla. Ives still rates the stock at an outperform with a $1,400 price target. \"We remain bullish on the Tesla story as the company navigates near-term production issues with strong consumer EV demand our focus for 2022'"
      ]
     },
     "execution_count": 45,
     "metadata": {},
     "output_type": "execute_result"
    }
   ],
   "source": [
    "articles['TSLA'][2]"
   ]
  },
  {
   "cell_type": "markdown",
   "metadata": {},
   "source": [
    "## 4.4. Summarise all Articles"
   ]
  },
  {
   "cell_type": "code",
   "execution_count": 46,
   "metadata": {},
   "outputs": [],
   "source": [
    "def summarize(articles):\n",
    "    summaries = []\n",
    "    for article in articles:\n",
    "        input_ids = tokenizer.encode(article, return_tensors='pt')\n",
    "        output = model.generate(input_ids, max_length=55, num_beams=5, early_stopping=True)\n",
    "        summary = tokenizer.decode(output[0], skip_special_tokens=True)\n",
    "        summaries.append(summary)\n",
    "    return summaries"
   ]
  },
  {
   "cell_type": "code",
   "execution_count": 48,
   "metadata": {},
   "outputs": [
    {
     "data": {
      "text/plain": [
       "{'GME': ['Video game retailer has lost 22.18% over the past month.',\n",
       "  'We are aware of the issue and are working to resolve it.',\n",
       "  'We are aware of the issue and are working to resolve it.',\n",
       "  'I am not suggesting you short GME, but rather advocating profit-pulling.',\n",
       "  'NVDA, GME, MOS, and Andersons are among stocks featured by Equity Research.',\n",
       "  'Kevin Navas named Chief Operating Officer, Rhonda Gibby named Chief Human Resources Officer.',\n",
       "  'Stock Strategist, Bryan Hayes, joins the show to discuss speculative stocks.',\n",
       "  'We are aware of the issue and are working to resolve it.',\n",
       "  'Men were more likely to trade in meme stock craze last year. Trading in viral stocks last January was much more common among men',\n",
       "  'GME stock is 400% higher than in 2015 when the business was stronger.'],\n",
       " 'TSLA': ['Social media platform no longer exists for Fisker. Rivals have long been adversaries',\n",
       "  'Electric-car maker is poised to erase losses for the year. Still, Tesla is more expensive than many of its peers',\n",
       "  'EV maker is expected to report sales of $17.76 billion. Analysts are expecting earnings of $2.26 a share',\n",
       "  'Musk says company may ‘pull a rabbit out of the hat’ on production. First-quarter profit more than doubled from regulatory credits',\n",
       "  'Legal expert says it will be challenging for Musk to manage both companies. Regulatory hurdles are not significant at this point',\n",
       "  'Tesla founder and CEO sold $4 billion of shares. Musk needed to raise $21 billion in equity to complete his Twitter deal',\n",
       "  'We are aware of the issue and are working to resolve it.',\n",
       "  'World’s richest man already owns nine per cent of Twitter. He is raising money to buy the social media platform',\n",
       "  'We are aware of the issue and are working to resolve it.',\n",
       "  'We are aware of the issue and are working to resolve it.'],\n",
       " 'BTC': ['We are aware of the issue and are working to resolve it.',\n",
       "  'Institutional interest in Bitcoin is rife. Tech giants like Tesla, Block, and MicroStrategy are investing in crypto',\n",
       "  'Bill would allow citizens, banks, and legal entities to use cryptos. Latin American country has a reputation as a tax haven',\n",
       "  'We are aware of the issue and are working to resolve it.',\n",
       "  'Production and Mining Operations Update for the first quarter ended March 31, 2022.',\n",
       "  'Lolli lets people earn up to 12% back in bitcoin on purchases. Co-founder and CEO of Bitcoin rewards company Lolli',\n",
       "  'Kwon’s stablecoin is one of the biggest Bitcoin backers. But crypto critics say it’s too good to be true',\n",
       "  'New batch of Bitmain Antminer S19j Pro mining machines to be installed at Company’s Washington facility. Additional 4,350 machines to be delivered in batches each month through the end of the year',\n",
       "  'Largest cryptocurrency has been trading above $40,400 this week. Buyers interest at 10-month low on major exchanges',\n",
       "  'Volksbank Bayern Mitte now offers a secure Bitcoin cold wallet solution.']}"
      ]
     },
     "execution_count": 48,
     "metadata": {},
     "output_type": "execute_result"
    }
   ],
   "source": [
    "summaries = {ticker:summarize(articles[ticker]) for ticker in monitored_tickers}\n",
    "summaries"
   ]
  },
  {
   "cell_type": "code",
   "execution_count": 49,
   "metadata": {},
   "outputs": [
    {
     "data": {
      "text/plain": [
       "['We are aware of the issue and are working to resolve it.',\n",
       " 'Institutional interest in Bitcoin is rife. Tech giants like Tesla, Block, and MicroStrategy are investing in crypto',\n",
       " 'Bill would allow citizens, banks, and legal entities to use cryptos. Latin American country has a reputation as a tax haven',\n",
       " 'We are aware of the issue and are working to resolve it.',\n",
       " 'Production and Mining Operations Update for the first quarter ended March 31, 2022.',\n",
       " 'Lolli lets people earn up to 12% back in bitcoin on purchases. Co-founder and CEO of Bitcoin rewards company Lolli',\n",
       " 'Kwon’s stablecoin is one of the biggest Bitcoin backers. But crypto critics say it’s too good to be true',\n",
       " 'New batch of Bitmain Antminer S19j Pro mining machines to be installed at Company’s Washington facility. Additional 4,350 machines to be delivered in batches each month through the end of the year',\n",
       " 'Largest cryptocurrency has been trading above $40,400 this week. Buyers interest at 10-month low on major exchanges',\n",
       " 'Volksbank Bayern Mitte now offers a secure Bitcoin cold wallet solution.']"
      ]
     },
     "execution_count": 49,
     "metadata": {},
     "output_type": "execute_result"
    }
   ],
   "source": [
    "summaries['BTC']"
   ]
  },
  {
   "cell_type": "markdown",
   "metadata": {},
   "source": [
    "# 5. Adding Sentiment Analysis"
   ]
  },
  {
   "cell_type": "code",
   "execution_count": 56,
   "metadata": {},
   "outputs": [
    {
     "data": {
      "application/vnd.jupyter.widget-view+json": {
       "model_id": "b9ebf51d88404a358eca09765e9425ab",
       "version_major": 2,
       "version_minor": 0
      },
      "text/plain": [
       "Downloading:   0%|          | 0.00/256 [00:00<?, ?B/s]"
      ]
     },
     "metadata": {},
     "output_type": "display_data"
    },
    {
     "data": {
      "application/vnd.jupyter.widget-view+json": {
       "model_id": "ca68129d3b2548799978f868ef5ca050",
       "version_major": 2,
       "version_minor": 0
      },
      "text/plain": [
       "Downloading:   0%|          | 0.00/687 [00:00<?, ?B/s]"
      ]
     },
     "metadata": {},
     "output_type": "display_data"
    },
    {
     "data": {
      "application/vnd.jupyter.widget-view+json": {
       "model_id": "aaec77a9ec3141a7b8ef94c22bf949a8",
       "version_major": 2,
       "version_minor": 0
      },
      "text/plain": [
       "Downloading:   0%|          | 0.00/780k [00:00<?, ?B/s]"
      ]
     },
     "metadata": {},
     "output_type": "display_data"
    },
    {
     "data": {
      "application/vnd.jupyter.widget-view+json": {
       "model_id": "588bb0df7eeb41d2a5ceb39c9272481d",
       "version_major": 2,
       "version_minor": 0
      },
      "text/plain": [
       "Downloading:   0%|          | 0.00/446k [00:00<?, ?B/s]"
      ]
     },
     "metadata": {},
     "output_type": "display_data"
    },
    {
     "data": {
      "application/vnd.jupyter.widget-view+json": {
       "model_id": "3a7027c7c3c24f87bfd1d25527c79c3f",
       "version_major": 2,
       "version_minor": 0
      },
      "text/plain": [
       "Downloading:   0%|          | 0.00/150 [00:00<?, ?B/s]"
      ]
     },
     "metadata": {},
     "output_type": "display_data"
    },
    {
     "data": {
      "application/vnd.jupyter.widget-view+json": {
       "model_id": "28598f015e9a4e65b745a6c10f296d32",
       "version_major": 2,
       "version_minor": 0
      },
      "text/plain": [
       "Downloading:   0%|          | 0.00/1.32G [00:00<?, ?B/s]"
      ]
     },
     "metadata": {},
     "output_type": "display_data"
    }
   ],
   "source": [
    "from transformers import AutoTokenizer, AutoModelForSequenceClassification\n",
    "\n",
    "tokenizer = AutoTokenizer.from_pretrained(\"siebert/sentiment-roberta-large-english\")\n",
    "\n",
    "model = AutoModelForSequenceClassification.from_pretrained(\"siebert/sentiment-roberta-large-english\")"
   ]
  },
  {
   "cell_type": "code",
   "execution_count": 58,
   "metadata": {},
   "outputs": [
    {
     "name": "stderr",
     "output_type": "stream",
     "text": [
      "No model was supplied, defaulted to distilbert-base-uncased-finetuned-sst-2-english (https://huggingface.co/distilbert-base-uncased-finetuned-sst-2-english)\n"
     ]
    }
   ],
   "source": [
    "from transformers import pipeline\n",
    "sentiment = pipeline('sentiment-analysis')"
   ]
  },
  {
   "cell_type": "code",
   "execution_count": 59,
   "metadata": {},
   "outputs": [
    {
     "data": {
      "text/plain": [
       "[{'label': 'POSITIVE', 'score': 0.9979088306427002},\n",
       " {'label': 'POSITIVE', 'score': 0.987434446811676},\n",
       " {'label': 'NEGATIVE', 'score': 0.8728227019309998},\n",
       " {'label': 'POSITIVE', 'score': 0.9979088306427002},\n",
       " {'label': 'NEGATIVE', 'score': 0.6467002034187317},\n",
       " {'label': 'NEGATIVE', 'score': 0.943663477897644},\n",
       " {'label': 'POSITIVE', 'score': 0.9637777805328369},\n",
       " {'label': 'NEGATIVE', 'score': 0.9783515334129333},\n",
       " {'label': 'NEGATIVE', 'score': 0.9817093014717102},\n",
       " {'label': 'NEGATIVE', 'score': 0.50108802318573}]"
      ]
     },
     "execution_count": 59,
     "metadata": {},
     "output_type": "execute_result"
    }
   ],
   "source": [
    "sentiment(summaries['BTC'])"
   ]
  },
  {
   "cell_type": "code",
   "execution_count": null,
   "metadata": {},
   "outputs": [],
   "source": []
  },
  {
   "cell_type": "code",
   "execution_count": 60,
   "metadata": {},
   "outputs": [
    {
     "data": {
      "text/plain": [
       "{'GME': [{'label': 'NEGATIVE', 'score': 0.9996449947357178},\n",
       "  {'label': 'POSITIVE', 'score': 0.9979088306427002},\n",
       "  {'label': 'POSITIVE', 'score': 0.9979088306427002},\n",
       "  {'label': 'NEGATIVE', 'score': 0.689195990562439},\n",
       "  {'label': 'POSITIVE', 'score': 0.9907901287078857},\n",
       "  {'label': 'POSITIVE', 'score': 0.988284707069397},\n",
       "  {'label': 'POSITIVE', 'score': 0.9957115650177002},\n",
       "  {'label': 'POSITIVE', 'score': 0.9979088306427002},\n",
       "  {'label': 'NEGATIVE', 'score': 0.9899381399154663},\n",
       "  {'label': 'POSITIVE', 'score': 0.9967945218086243}],\n",
       " 'TSLA': [{'label': 'NEGATIVE', 'score': 0.9990410208702087},\n",
       "  {'label': 'NEGATIVE', 'score': 0.978550910949707},\n",
       "  {'label': 'NEGATIVE', 'score': 0.939998209476471},\n",
       "  {'label': 'NEGATIVE', 'score': 0.9701682329177856},\n",
       "  {'label': 'NEGATIVE', 'score': 0.9992271661758423},\n",
       "  {'label': 'NEGATIVE', 'score': 0.9938125610351562},\n",
       "  {'label': 'POSITIVE', 'score': 0.9979088306427002},\n",
       "  {'label': 'NEGATIVE', 'score': 0.9458198547363281},\n",
       "  {'label': 'POSITIVE', 'score': 0.9979088306427002},\n",
       "  {'label': 'POSITIVE', 'score': 0.9979088306427002}],\n",
       " 'BTC': [{'label': 'POSITIVE', 'score': 0.9979088306427002},\n",
       "  {'label': 'POSITIVE', 'score': 0.987434446811676},\n",
       "  {'label': 'NEGATIVE', 'score': 0.8728227019309998},\n",
       "  {'label': 'POSITIVE', 'score': 0.9979088306427002},\n",
       "  {'label': 'NEGATIVE', 'score': 0.6467002034187317},\n",
       "  {'label': 'NEGATIVE', 'score': 0.943663477897644},\n",
       "  {'label': 'POSITIVE', 'score': 0.9637777805328369},\n",
       "  {'label': 'NEGATIVE', 'score': 0.9783515334129333},\n",
       "  {'label': 'NEGATIVE', 'score': 0.9817093014717102},\n",
       "  {'label': 'NEGATIVE', 'score': 0.50108802318573}]}"
      ]
     },
     "execution_count": 60,
     "metadata": {},
     "output_type": "execute_result"
    }
   ],
   "source": [
    "scores = {ticker:sentiment(summaries[ticker]) for ticker in monitored_tickers}\n",
    "scores"
   ]
  },
  {
   "cell_type": "code",
   "execution_count": 61,
   "metadata": {},
   "outputs": [
    {
     "name": "stdout",
     "output_type": "stream",
     "text": [
      "I am not suggesting you short GME, but rather advocating profit-pulling. NEGATIVE 0.689195990562439\n"
     ]
    }
   ],
   "source": [
    "print(summaries['GME'][3], scores['GME'][3]['label'], scores['GME'][3]['score'])"
   ]
  },
  {
   "cell_type": "code",
   "execution_count": 62,
   "metadata": {},
   "outputs": [
    {
     "data": {
      "text/plain": [
       "0.9979088306427002"
      ]
     },
     "execution_count": 62,
     "metadata": {},
     "output_type": "execute_result"
    }
   ],
   "source": [
    "scores['BTC'][0]['score']"
   ]
  },
  {
   "cell_type": "markdown",
   "metadata": {},
   "source": [
    "# 6. Exporting Results to CSV"
   ]
  },
  {
   "cell_type": "code",
   "execution_count": 63,
   "metadata": {},
   "outputs": [
    {
     "data": {
      "text/plain": [
       "{'GME': ['Video game retailer has lost 22.18% over the past month.',\n",
       "  'We are aware of the issue and are working to resolve it.',\n",
       "  'We are aware of the issue and are working to resolve it.',\n",
       "  'I am not suggesting you short GME, but rather advocating profit-pulling.',\n",
       "  'NVDA, GME, MOS, and Andersons are among stocks featured by Equity Research.',\n",
       "  'Kevin Navas named Chief Operating Officer, Rhonda Gibby named Chief Human Resources Officer.',\n",
       "  'Stock Strategist, Bryan Hayes, joins the show to discuss speculative stocks.',\n",
       "  'We are aware of the issue and are working to resolve it.',\n",
       "  'Men were more likely to trade in meme stock craze last year. Trading in viral stocks last January was much more common among men',\n",
       "  'GME stock is 400% higher than in 2015 when the business was stronger.'],\n",
       " 'TSLA': ['Social media platform no longer exists for Fisker. Rivals have long been adversaries',\n",
       "  'Electric-car maker is poised to erase losses for the year. Still, Tesla is more expensive than many of its peers',\n",
       "  'EV maker is expected to report sales of $17.76 billion. Analysts are expecting earnings of $2.26 a share',\n",
       "  'Musk says company may ‘pull a rabbit out of the hat’ on production. First-quarter profit more than doubled from regulatory credits',\n",
       "  'Legal expert says it will be challenging for Musk to manage both companies. Regulatory hurdles are not significant at this point',\n",
       "  'Tesla founder and CEO sold $4 billion of shares. Musk needed to raise $21 billion in equity to complete his Twitter deal',\n",
       "  'We are aware of the issue and are working to resolve it.',\n",
       "  'World’s richest man already owns nine per cent of Twitter. He is raising money to buy the social media platform',\n",
       "  'We are aware of the issue and are working to resolve it.',\n",
       "  'We are aware of the issue and are working to resolve it.'],\n",
       " 'BTC': ['We are aware of the issue and are working to resolve it.',\n",
       "  'Institutional interest in Bitcoin is rife. Tech giants like Tesla, Block, and MicroStrategy are investing in crypto',\n",
       "  'Bill would allow citizens, banks, and legal entities to use cryptos. Latin American country has a reputation as a tax haven',\n",
       "  'We are aware of the issue and are working to resolve it.',\n",
       "  'Production and Mining Operations Update for the first quarter ended March 31, 2022.',\n",
       "  'Lolli lets people earn up to 12% back in bitcoin on purchases. Co-founder and CEO of Bitcoin rewards company Lolli',\n",
       "  'Kwon’s stablecoin is one of the biggest Bitcoin backers. But crypto critics say it’s too good to be true',\n",
       "  'New batch of Bitmain Antminer S19j Pro mining machines to be installed at Company’s Washington facility. Additional 4,350 machines to be delivered in batches each month through the end of the year',\n",
       "  'Largest cryptocurrency has been trading above $40,400 this week. Buyers interest at 10-month low on major exchanges',\n",
       "  'Volksbank Bayern Mitte now offers a secure Bitcoin cold wallet solution.']}"
      ]
     },
     "execution_count": 63,
     "metadata": {},
     "output_type": "execute_result"
    }
   ],
   "source": [
    "summaries"
   ]
  },
  {
   "cell_type": "code",
   "execution_count": 64,
   "metadata": {},
   "outputs": [
    {
     "data": {
      "text/plain": [
       "{'GME': [{'label': 'NEGATIVE', 'score': 0.9996449947357178},\n",
       "  {'label': 'POSITIVE', 'score': 0.9979088306427002},\n",
       "  {'label': 'POSITIVE', 'score': 0.9979088306427002},\n",
       "  {'label': 'NEGATIVE', 'score': 0.689195990562439},\n",
       "  {'label': 'POSITIVE', 'score': 0.9907901287078857},\n",
       "  {'label': 'POSITIVE', 'score': 0.988284707069397},\n",
       "  {'label': 'POSITIVE', 'score': 0.9957115650177002},\n",
       "  {'label': 'POSITIVE', 'score': 0.9979088306427002},\n",
       "  {'label': 'NEGATIVE', 'score': 0.9899381399154663},\n",
       "  {'label': 'POSITIVE', 'score': 0.9967945218086243}],\n",
       " 'TSLA': [{'label': 'NEGATIVE', 'score': 0.9990410208702087},\n",
       "  {'label': 'NEGATIVE', 'score': 0.978550910949707},\n",
       "  {'label': 'NEGATIVE', 'score': 0.939998209476471},\n",
       "  {'label': 'NEGATIVE', 'score': 0.9701682329177856},\n",
       "  {'label': 'NEGATIVE', 'score': 0.9992271661758423},\n",
       "  {'label': 'NEGATIVE', 'score': 0.9938125610351562},\n",
       "  {'label': 'POSITIVE', 'score': 0.9979088306427002},\n",
       "  {'label': 'NEGATIVE', 'score': 0.9458198547363281},\n",
       "  {'label': 'POSITIVE', 'score': 0.9979088306427002},\n",
       "  {'label': 'POSITIVE', 'score': 0.9979088306427002}],\n",
       " 'BTC': [{'label': 'POSITIVE', 'score': 0.9979088306427002},\n",
       "  {'label': 'POSITIVE', 'score': 0.987434446811676},\n",
       "  {'label': 'NEGATIVE', 'score': 0.8728227019309998},\n",
       "  {'label': 'POSITIVE', 'score': 0.9979088306427002},\n",
       "  {'label': 'NEGATIVE', 'score': 0.6467002034187317},\n",
       "  {'label': 'NEGATIVE', 'score': 0.943663477897644},\n",
       "  {'label': 'POSITIVE', 'score': 0.9637777805328369},\n",
       "  {'label': 'NEGATIVE', 'score': 0.9783515334129333},\n",
       "  {'label': 'NEGATIVE', 'score': 0.9817093014717102},\n",
       "  {'label': 'NEGATIVE', 'score': 0.50108802318573}]}"
      ]
     },
     "execution_count": 64,
     "metadata": {},
     "output_type": "execute_result"
    }
   ],
   "source": [
    "scores"
   ]
  },
  {
   "cell_type": "code",
   "execution_count": 65,
   "metadata": {},
   "outputs": [
    {
     "data": {
      "text/plain": [
       "{'GME': ['https://finance.yahoo.com/news/gamestop-gme-stock-sinks-market-220010614.html',\n",
       "  'https://finance.yahoo.com/video/taxes-2022-know-reporting-meme-161025450.html',\n",
       "  'https://finance.yahoo.com/news/taxes-2022-reporting-meme-stock-gains-and-losses-144648811.html',\n",
       "  'https://finance.yahoo.com/news/bear-day-gamestop-gme-110011956.html',\n",
       "  'https://finance.yahoo.com/news/nvidia-gamestop-highlighted-zacks-bull-125212967.html',\n",
       "  'https://finance.yahoo.com/news/u-orthopaedic-partners-announces-leadership-174300930.html',\n",
       "  'https://finance.yahoo.com/news/zacks-market-edge-highlights-gamestop-100610638.html',\n",
       "  'https://finance.yahoo.com/video/bed-bath-beyond-earnings-going-155741973.html',\n",
       "  'https://finance.yahoo.com/news/the-meme-stock-craze-is-pretty-bro-ey-sallie-krawcheck-175923007.html',\n",
       "  'https://investorplace.com/2022/04/gme-stock-gamestop-requires-a-tactical-approach-moving-forward/'],\n",
       " 'TSLA': ['https://finance.yahoo.com/longtime-tesla-rival-henrik-fisker-223000049.html',\n",
       "  'https://finance.yahoo.com/news/tesla-stock-stands-apart-growth-104807353.html',\n",
       "  'https://finance.yahoo.com/news/one-big-challenge-facing-tesla-that-has-nothing-to-do-with-elon-musks-twitter-bid-163542573.html',\n",
       "  'https://finance.yahoo.com/news/tesla-notches-record-profit-sees-000529793.html',\n",
       "  'https://finance.yahoo.com/news/juggling-twitter-and-tesla-would-require-constant-attention-by-elon-musk-expert-142238834.html',\n",
       "  'https://finance.yahoo.com/news/elon-musk-sold-4-billion-041452825.html',\n",
       "  'https://finance.yahoo.com/video/elon-musk-twitter-deal-means-133418736.html',\n",
       "  'https://uk.finance.yahoo.com/news/elon-musk-sells-8-5bn-181854583.html',\n",
       "  'https://finance.yahoo.com/news/tesla-insurance-colorado-oregon-virginia-200217835.html',\n",
       "  'https://finance.yahoo.com/video/twitter-tesla-both-musk-constant-153901595.html'],\n",
       " 'BTC': ['https://finance.yahoo.com/video/crypto-bahamas-2022-bitcoin-price-144641530.html',\n",
       "  'https://finance.yahoo.com/news/why-bitcoin-navigation-recent-global-080451109.html',\n",
       "  'https://finance.yahoo.com/news/panama-poised-approve-bitcoin-8-122024300.html',\n",
       "  'https://finance.yahoo.com/video/labor-department-official-concerns-adding-205640678.html',\n",
       "  'https://finance.yahoo.com/news/bit-digital-inc-announces-bitcoin-115900746.html',\n",
       "  'https://finance.yahoo.com/news/alex-adelman-rewards-bitcoin-180639118.html',\n",
       "  'https://finance.yahoo.com/news/king-lunatics-becomes-bitcoin-most-040002343.html',\n",
       "  'https://finance.yahoo.com/news/cathedra-bitcoin-announces-shipment-first-185200554.html',\n",
       "  'https://finance.yahoo.com/news/why-bitcoin-could-be-poised-to-fall-further-204052656.html',\n",
       "  'https://finance.yahoo.com/news/osd-german-bank-officially-offering-080900758.html']}"
      ]
     },
     "execution_count": 65,
     "metadata": {},
     "output_type": "execute_result"
    }
   ],
   "source": [
    "cleaned_urls"
   ]
  },
  {
   "cell_type": "code",
   "execution_count": 66,
   "metadata": {},
   "outputs": [
    {
     "data": {
      "text/plain": [
       "range(0, 10)"
      ]
     },
     "execution_count": 66,
     "metadata": {},
     "output_type": "execute_result"
    }
   ],
   "source": [
    "range(len(summaries['GME']))"
   ]
  },
  {
   "cell_type": "code",
   "execution_count": 67,
   "metadata": {},
   "outputs": [
    {
     "data": {
      "text/plain": [
       "'I am not suggesting you short GME, but rather advocating profit-pulling.'"
      ]
     },
     "execution_count": 67,
     "metadata": {},
     "output_type": "execute_result"
    }
   ],
   "source": [
    "summaries['GME'][3]"
   ]
  },
  {
   "cell_type": "code",
   "execution_count": 68,
   "metadata": {},
   "outputs": [],
   "source": [
    "def create_output_array(summaries, scores, urls):\n",
    "    output = []\n",
    "    for ticker in monitored_tickers:\n",
    "        for counter in range(len(summaries[ticker])):\n",
    "            output_this = [\n",
    "                ticker,\n",
    "                summaries[ticker][counter],\n",
    "                scores[ticker][counter]['label'],\n",
    "                scores[ticker][counter]['score'],\n",
    "                urls[ticker][counter]\n",
    "            ]\n",
    "            output.append(output_this)\n",
    "    return output"
   ]
  },
  {
   "cell_type": "code",
   "execution_count": 69,
   "metadata": {},
   "outputs": [
    {
     "data": {
      "text/plain": [
       "[['GME',\n",
       "  'Video game retailer has lost 22.18% over the past month.',\n",
       "  'NEGATIVE',\n",
       "  0.9996449947357178,\n",
       "  'https://finance.yahoo.com/news/gamestop-gme-stock-sinks-market-220010614.html'],\n",
       " ['GME',\n",
       "  'We are aware of the issue and are working to resolve it.',\n",
       "  'POSITIVE',\n",
       "  0.9979088306427002,\n",
       "  'https://finance.yahoo.com/video/taxes-2022-know-reporting-meme-161025450.html'],\n",
       " ['GME',\n",
       "  'We are aware of the issue and are working to resolve it.',\n",
       "  'POSITIVE',\n",
       "  0.9979088306427002,\n",
       "  'https://finance.yahoo.com/news/taxes-2022-reporting-meme-stock-gains-and-losses-144648811.html'],\n",
       " ['GME',\n",
       "  'I am not suggesting you short GME, but rather advocating profit-pulling.',\n",
       "  'NEGATIVE',\n",
       "  0.689195990562439,\n",
       "  'https://finance.yahoo.com/news/bear-day-gamestop-gme-110011956.html'],\n",
       " ['GME',\n",
       "  'NVDA, GME, MOS, and Andersons are among stocks featured by Equity Research.',\n",
       "  'POSITIVE',\n",
       "  0.9907901287078857,\n",
       "  'https://finance.yahoo.com/news/nvidia-gamestop-highlighted-zacks-bull-125212967.html'],\n",
       " ['GME',\n",
       "  'Kevin Navas named Chief Operating Officer, Rhonda Gibby named Chief Human Resources Officer.',\n",
       "  'POSITIVE',\n",
       "  0.988284707069397,\n",
       "  'https://finance.yahoo.com/news/u-orthopaedic-partners-announces-leadership-174300930.html'],\n",
       " ['GME',\n",
       "  'Stock Strategist, Bryan Hayes, joins the show to discuss speculative stocks.',\n",
       "  'POSITIVE',\n",
       "  0.9957115650177002,\n",
       "  'https://finance.yahoo.com/news/zacks-market-edge-highlights-gamestop-100610638.html'],\n",
       " ['GME',\n",
       "  'We are aware of the issue and are working to resolve it.',\n",
       "  'POSITIVE',\n",
       "  0.9979088306427002,\n",
       "  'https://finance.yahoo.com/video/bed-bath-beyond-earnings-going-155741973.html'],\n",
       " ['GME',\n",
       "  'Men were more likely to trade in meme stock craze last year. Trading in viral stocks last January was much more common among men',\n",
       "  'NEGATIVE',\n",
       "  0.9899381399154663,\n",
       "  'https://finance.yahoo.com/news/the-meme-stock-craze-is-pretty-bro-ey-sallie-krawcheck-175923007.html'],\n",
       " ['GME',\n",
       "  'GME stock is 400% higher than in 2015 when the business was stronger.',\n",
       "  'POSITIVE',\n",
       "  0.9967945218086243,\n",
       "  'https://investorplace.com/2022/04/gme-stock-gamestop-requires-a-tactical-approach-moving-forward/'],\n",
       " ['TSLA',\n",
       "  'Social media platform no longer exists for Fisker. Rivals have long been adversaries',\n",
       "  'NEGATIVE',\n",
       "  0.9990410208702087,\n",
       "  'https://finance.yahoo.com/longtime-tesla-rival-henrik-fisker-223000049.html'],\n",
       " ['TSLA',\n",
       "  'Electric-car maker is poised to erase losses for the year. Still, Tesla is more expensive than many of its peers',\n",
       "  'NEGATIVE',\n",
       "  0.978550910949707,\n",
       "  'https://finance.yahoo.com/news/tesla-stock-stands-apart-growth-104807353.html'],\n",
       " ['TSLA',\n",
       "  'EV maker is expected to report sales of $17.76 billion. Analysts are expecting earnings of $2.26 a share',\n",
       "  'NEGATIVE',\n",
       "  0.939998209476471,\n",
       "  'https://finance.yahoo.com/news/one-big-challenge-facing-tesla-that-has-nothing-to-do-with-elon-musks-twitter-bid-163542573.html'],\n",
       " ['TSLA',\n",
       "  'Musk says company may ‘pull a rabbit out of the hat’ on production. First-quarter profit more than doubled from regulatory credits',\n",
       "  'NEGATIVE',\n",
       "  0.9701682329177856,\n",
       "  'https://finance.yahoo.com/news/tesla-notches-record-profit-sees-000529793.html'],\n",
       " ['TSLA',\n",
       "  'Legal expert says it will be challenging for Musk to manage both companies. Regulatory hurdles are not significant at this point',\n",
       "  'NEGATIVE',\n",
       "  0.9992271661758423,\n",
       "  'https://finance.yahoo.com/news/juggling-twitter-and-tesla-would-require-constant-attention-by-elon-musk-expert-142238834.html'],\n",
       " ['TSLA',\n",
       "  'Tesla founder and CEO sold $4 billion of shares. Musk needed to raise $21 billion in equity to complete his Twitter deal',\n",
       "  'NEGATIVE',\n",
       "  0.9938125610351562,\n",
       "  'https://finance.yahoo.com/news/elon-musk-sold-4-billion-041452825.html'],\n",
       " ['TSLA',\n",
       "  'We are aware of the issue and are working to resolve it.',\n",
       "  'POSITIVE',\n",
       "  0.9979088306427002,\n",
       "  'https://finance.yahoo.com/video/elon-musk-twitter-deal-means-133418736.html'],\n",
       " ['TSLA',\n",
       "  'World’s richest man already owns nine per cent of Twitter. He is raising money to buy the social media platform',\n",
       "  'NEGATIVE',\n",
       "  0.9458198547363281,\n",
       "  'https://uk.finance.yahoo.com/news/elon-musk-sells-8-5bn-181854583.html'],\n",
       " ['TSLA',\n",
       "  'We are aware of the issue and are working to resolve it.',\n",
       "  'POSITIVE',\n",
       "  0.9979088306427002,\n",
       "  'https://finance.yahoo.com/news/tesla-insurance-colorado-oregon-virginia-200217835.html'],\n",
       " ['TSLA',\n",
       "  'We are aware of the issue and are working to resolve it.',\n",
       "  'POSITIVE',\n",
       "  0.9979088306427002,\n",
       "  'https://finance.yahoo.com/video/twitter-tesla-both-musk-constant-153901595.html'],\n",
       " ['BTC',\n",
       "  'We are aware of the issue and are working to resolve it.',\n",
       "  'POSITIVE',\n",
       "  0.9979088306427002,\n",
       "  'https://finance.yahoo.com/video/crypto-bahamas-2022-bitcoin-price-144641530.html'],\n",
       " ['BTC',\n",
       "  'Institutional interest in Bitcoin is rife. Tech giants like Tesla, Block, and MicroStrategy are investing in crypto',\n",
       "  'POSITIVE',\n",
       "  0.987434446811676,\n",
       "  'https://finance.yahoo.com/news/why-bitcoin-navigation-recent-global-080451109.html'],\n",
       " ['BTC',\n",
       "  'Bill would allow citizens, banks, and legal entities to use cryptos. Latin American country has a reputation as a tax haven',\n",
       "  'NEGATIVE',\n",
       "  0.8728227019309998,\n",
       "  'https://finance.yahoo.com/news/panama-poised-approve-bitcoin-8-122024300.html'],\n",
       " ['BTC',\n",
       "  'We are aware of the issue and are working to resolve it.',\n",
       "  'POSITIVE',\n",
       "  0.9979088306427002,\n",
       "  'https://finance.yahoo.com/video/labor-department-official-concerns-adding-205640678.html'],\n",
       " ['BTC',\n",
       "  'Production and Mining Operations Update for the first quarter ended March 31, 2022.',\n",
       "  'NEGATIVE',\n",
       "  0.6467002034187317,\n",
       "  'https://finance.yahoo.com/news/bit-digital-inc-announces-bitcoin-115900746.html'],\n",
       " ['BTC',\n",
       "  'Lolli lets people earn up to 12% back in bitcoin on purchases. Co-founder and CEO of Bitcoin rewards company Lolli',\n",
       "  'NEGATIVE',\n",
       "  0.943663477897644,\n",
       "  'https://finance.yahoo.com/news/alex-adelman-rewards-bitcoin-180639118.html'],\n",
       " ['BTC',\n",
       "  'Kwon’s stablecoin is one of the biggest Bitcoin backers. But crypto critics say it’s too good to be true',\n",
       "  'POSITIVE',\n",
       "  0.9637777805328369,\n",
       "  'https://finance.yahoo.com/news/king-lunatics-becomes-bitcoin-most-040002343.html'],\n",
       " ['BTC',\n",
       "  'New batch of Bitmain Antminer S19j Pro mining machines to be installed at Company’s Washington facility. Additional 4,350 machines to be delivered in batches each month through the end of the year',\n",
       "  'NEGATIVE',\n",
       "  0.9783515334129333,\n",
       "  'https://finance.yahoo.com/news/cathedra-bitcoin-announces-shipment-first-185200554.html'],\n",
       " ['BTC',\n",
       "  'Largest cryptocurrency has been trading above $40,400 this week. Buyers interest at 10-month low on major exchanges',\n",
       "  'NEGATIVE',\n",
       "  0.9817093014717102,\n",
       "  'https://finance.yahoo.com/news/why-bitcoin-could-be-poised-to-fall-further-204052656.html'],\n",
       " ['BTC',\n",
       "  'Volksbank Bayern Mitte now offers a secure Bitcoin cold wallet solution.',\n",
       "  'NEGATIVE',\n",
       "  0.50108802318573,\n",
       "  'https://finance.yahoo.com/news/osd-german-bank-officially-offering-080900758.html']]"
      ]
     },
     "execution_count": 69,
     "metadata": {},
     "output_type": "execute_result"
    }
   ],
   "source": [
    "final_output = create_output_array(summaries, scores, cleaned_urls)\n",
    "final_output"
   ]
  },
  {
   "cell_type": "code",
   "execution_count": 70,
   "metadata": {},
   "outputs": [],
   "source": [
    "final_output.insert(0, ['Ticker', 'Summary', 'Label', 'Confidence', 'URL'])"
   ]
  },
  {
   "cell_type": "code",
   "execution_count": 71,
   "metadata": {},
   "outputs": [
    {
     "data": {
      "text/plain": [
       "[['Ticker', 'Summary', 'Label', 'Confidence', 'URL'],\n",
       " ['GME',\n",
       "  'Video game retailer has lost 22.18% over the past month.',\n",
       "  'NEGATIVE',\n",
       "  0.9996449947357178,\n",
       "  'https://finance.yahoo.com/news/gamestop-gme-stock-sinks-market-220010614.html'],\n",
       " ['GME',\n",
       "  'We are aware of the issue and are working to resolve it.',\n",
       "  'POSITIVE',\n",
       "  0.9979088306427002,\n",
       "  'https://finance.yahoo.com/video/taxes-2022-know-reporting-meme-161025450.html'],\n",
       " ['GME',\n",
       "  'We are aware of the issue and are working to resolve it.',\n",
       "  'POSITIVE',\n",
       "  0.9979088306427002,\n",
       "  'https://finance.yahoo.com/news/taxes-2022-reporting-meme-stock-gains-and-losses-144648811.html'],\n",
       " ['GME',\n",
       "  'I am not suggesting you short GME, but rather advocating profit-pulling.',\n",
       "  'NEGATIVE',\n",
       "  0.689195990562439,\n",
       "  'https://finance.yahoo.com/news/bear-day-gamestop-gme-110011956.html'],\n",
       " ['GME',\n",
       "  'NVDA, GME, MOS, and Andersons are among stocks featured by Equity Research.',\n",
       "  'POSITIVE',\n",
       "  0.9907901287078857,\n",
       "  'https://finance.yahoo.com/news/nvidia-gamestop-highlighted-zacks-bull-125212967.html'],\n",
       " ['GME',\n",
       "  'Kevin Navas named Chief Operating Officer, Rhonda Gibby named Chief Human Resources Officer.',\n",
       "  'POSITIVE',\n",
       "  0.988284707069397,\n",
       "  'https://finance.yahoo.com/news/u-orthopaedic-partners-announces-leadership-174300930.html'],\n",
       " ['GME',\n",
       "  'Stock Strategist, Bryan Hayes, joins the show to discuss speculative stocks.',\n",
       "  'POSITIVE',\n",
       "  0.9957115650177002,\n",
       "  'https://finance.yahoo.com/news/zacks-market-edge-highlights-gamestop-100610638.html'],\n",
       " ['GME',\n",
       "  'We are aware of the issue and are working to resolve it.',\n",
       "  'POSITIVE',\n",
       "  0.9979088306427002,\n",
       "  'https://finance.yahoo.com/video/bed-bath-beyond-earnings-going-155741973.html'],\n",
       " ['GME',\n",
       "  'Men were more likely to trade in meme stock craze last year. Trading in viral stocks last January was much more common among men',\n",
       "  'NEGATIVE',\n",
       "  0.9899381399154663,\n",
       "  'https://finance.yahoo.com/news/the-meme-stock-craze-is-pretty-bro-ey-sallie-krawcheck-175923007.html'],\n",
       " ['GME',\n",
       "  'GME stock is 400% higher than in 2015 when the business was stronger.',\n",
       "  'POSITIVE',\n",
       "  0.9967945218086243,\n",
       "  'https://investorplace.com/2022/04/gme-stock-gamestop-requires-a-tactical-approach-moving-forward/'],\n",
       " ['TSLA',\n",
       "  'Social media platform no longer exists for Fisker. Rivals have long been adversaries',\n",
       "  'NEGATIVE',\n",
       "  0.9990410208702087,\n",
       "  'https://finance.yahoo.com/longtime-tesla-rival-henrik-fisker-223000049.html'],\n",
       " ['TSLA',\n",
       "  'Electric-car maker is poised to erase losses for the year. Still, Tesla is more expensive than many of its peers',\n",
       "  'NEGATIVE',\n",
       "  0.978550910949707,\n",
       "  'https://finance.yahoo.com/news/tesla-stock-stands-apart-growth-104807353.html'],\n",
       " ['TSLA',\n",
       "  'EV maker is expected to report sales of $17.76 billion. Analysts are expecting earnings of $2.26 a share',\n",
       "  'NEGATIVE',\n",
       "  0.939998209476471,\n",
       "  'https://finance.yahoo.com/news/one-big-challenge-facing-tesla-that-has-nothing-to-do-with-elon-musks-twitter-bid-163542573.html'],\n",
       " ['TSLA',\n",
       "  'Musk says company may ‘pull a rabbit out of the hat’ on production. First-quarter profit more than doubled from regulatory credits',\n",
       "  'NEGATIVE',\n",
       "  0.9701682329177856,\n",
       "  'https://finance.yahoo.com/news/tesla-notches-record-profit-sees-000529793.html'],\n",
       " ['TSLA',\n",
       "  'Legal expert says it will be challenging for Musk to manage both companies. Regulatory hurdles are not significant at this point',\n",
       "  'NEGATIVE',\n",
       "  0.9992271661758423,\n",
       "  'https://finance.yahoo.com/news/juggling-twitter-and-tesla-would-require-constant-attention-by-elon-musk-expert-142238834.html'],\n",
       " ['TSLA',\n",
       "  'Tesla founder and CEO sold $4 billion of shares. Musk needed to raise $21 billion in equity to complete his Twitter deal',\n",
       "  'NEGATIVE',\n",
       "  0.9938125610351562,\n",
       "  'https://finance.yahoo.com/news/elon-musk-sold-4-billion-041452825.html'],\n",
       " ['TSLA',\n",
       "  'We are aware of the issue and are working to resolve it.',\n",
       "  'POSITIVE',\n",
       "  0.9979088306427002,\n",
       "  'https://finance.yahoo.com/video/elon-musk-twitter-deal-means-133418736.html'],\n",
       " ['TSLA',\n",
       "  'World’s richest man already owns nine per cent of Twitter. He is raising money to buy the social media platform',\n",
       "  'NEGATIVE',\n",
       "  0.9458198547363281,\n",
       "  'https://uk.finance.yahoo.com/news/elon-musk-sells-8-5bn-181854583.html'],\n",
       " ['TSLA',\n",
       "  'We are aware of the issue and are working to resolve it.',\n",
       "  'POSITIVE',\n",
       "  0.9979088306427002,\n",
       "  'https://finance.yahoo.com/news/tesla-insurance-colorado-oregon-virginia-200217835.html'],\n",
       " ['TSLA',\n",
       "  'We are aware of the issue and are working to resolve it.',\n",
       "  'POSITIVE',\n",
       "  0.9979088306427002,\n",
       "  'https://finance.yahoo.com/video/twitter-tesla-both-musk-constant-153901595.html'],\n",
       " ['BTC',\n",
       "  'We are aware of the issue and are working to resolve it.',\n",
       "  'POSITIVE',\n",
       "  0.9979088306427002,\n",
       "  'https://finance.yahoo.com/video/crypto-bahamas-2022-bitcoin-price-144641530.html'],\n",
       " ['BTC',\n",
       "  'Institutional interest in Bitcoin is rife. Tech giants like Tesla, Block, and MicroStrategy are investing in crypto',\n",
       "  'POSITIVE',\n",
       "  0.987434446811676,\n",
       "  'https://finance.yahoo.com/news/why-bitcoin-navigation-recent-global-080451109.html'],\n",
       " ['BTC',\n",
       "  'Bill would allow citizens, banks, and legal entities to use cryptos. Latin American country has a reputation as a tax haven',\n",
       "  'NEGATIVE',\n",
       "  0.8728227019309998,\n",
       "  'https://finance.yahoo.com/news/panama-poised-approve-bitcoin-8-122024300.html'],\n",
       " ['BTC',\n",
       "  'We are aware of the issue and are working to resolve it.',\n",
       "  'POSITIVE',\n",
       "  0.9979088306427002,\n",
       "  'https://finance.yahoo.com/video/labor-department-official-concerns-adding-205640678.html'],\n",
       " ['BTC',\n",
       "  'Production and Mining Operations Update for the first quarter ended March 31, 2022.',\n",
       "  'NEGATIVE',\n",
       "  0.6467002034187317,\n",
       "  'https://finance.yahoo.com/news/bit-digital-inc-announces-bitcoin-115900746.html'],\n",
       " ['BTC',\n",
       "  'Lolli lets people earn up to 12% back in bitcoin on purchases. Co-founder and CEO of Bitcoin rewards company Lolli',\n",
       "  'NEGATIVE',\n",
       "  0.943663477897644,\n",
       "  'https://finance.yahoo.com/news/alex-adelman-rewards-bitcoin-180639118.html'],\n",
       " ['BTC',\n",
       "  'Kwon’s stablecoin is one of the biggest Bitcoin backers. But crypto critics say it’s too good to be true',\n",
       "  'POSITIVE',\n",
       "  0.9637777805328369,\n",
       "  'https://finance.yahoo.com/news/king-lunatics-becomes-bitcoin-most-040002343.html'],\n",
       " ['BTC',\n",
       "  'New batch of Bitmain Antminer S19j Pro mining machines to be installed at Company’s Washington facility. Additional 4,350 machines to be delivered in batches each month through the end of the year',\n",
       "  'NEGATIVE',\n",
       "  0.9783515334129333,\n",
       "  'https://finance.yahoo.com/news/cathedra-bitcoin-announces-shipment-first-185200554.html'],\n",
       " ['BTC',\n",
       "  'Largest cryptocurrency has been trading above $40,400 this week. Buyers interest at 10-month low on major exchanges',\n",
       "  'NEGATIVE',\n",
       "  0.9817093014717102,\n",
       "  'https://finance.yahoo.com/news/why-bitcoin-could-be-poised-to-fall-further-204052656.html'],\n",
       " ['BTC',\n",
       "  'Volksbank Bayern Mitte now offers a secure Bitcoin cold wallet solution.',\n",
       "  'NEGATIVE',\n",
       "  0.50108802318573,\n",
       "  'https://finance.yahoo.com/news/osd-german-bank-officially-offering-080900758.html']]"
      ]
     },
     "execution_count": 71,
     "metadata": {},
     "output_type": "execute_result"
    }
   ],
   "source": [
    "final_output"
   ]
  },
  {
   "cell_type": "code",
   "execution_count": 72,
   "metadata": {},
   "outputs": [],
   "source": [
    "import csv\n",
    "with open('assetsummaries.csv', mode='w', newline='') as f:\n",
    "    csv_writer = csv.writer(f, delimiter=',', quotechar='\"', quoting=csv.QUOTE_MINIMAL)\n",
    "    csv_writer.writerows(final_output)"
   ]
  },
  {
   "cell_type": "code",
   "execution_count": null,
   "metadata": {},
   "outputs": [],
   "source": []
  },
  {
   "cell_type": "code",
   "execution_count": null,
   "metadata": {},
   "outputs": [],
   "source": []
  },
  {
   "cell_type": "code",
   "execution_count": null,
   "metadata": {},
   "outputs": [],
   "source": []
  }
 ],
 "metadata": {
  "kernelspec": {
   "display_name": "Python 3",
   "language": "python",
   "name": "python3"
  },
  "language_info": {
   "codemirror_mode": {
    "name": "ipython",
    "version": 3
   },
   "file_extension": ".py",
   "mimetype": "text/x-python",
   "name": "python",
   "nbconvert_exporter": "python",
   "pygments_lexer": "ipython3",
   "version": "3.8.8"
  }
 },
 "nbformat": 4,
 "nbformat_minor": 2
}
